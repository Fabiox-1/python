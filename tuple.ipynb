{
  "nbformat": 4,
  "nbformat_minor": 0,
  "metadata": {
    "colab": {
      "provenance": [],
      "authorship_tag": "ABX9TyO7aJDD6VJqVC+KSglMlvez",
      "include_colab_link": true
    },
    "kernelspec": {
      "name": "python3",
      "display_name": "Python 3"
    },
    "language_info": {
      "name": "python"
    }
  },
  "cells": [
    {
      "cell_type": "markdown",
      "metadata": {
        "id": "view-in-github",
        "colab_type": "text"
      },
      "source": [
        "<a href=\"https://colab.research.google.com/github/Fabiox-1/python/blob/main/tuple.ipynb\" target=\"_parent\"><img src=\"https://colab.research.google.com/assets/colab-badge.svg\" alt=\"Open In Colab\"/></a>"
      ]
    },
    {
      "cell_type": "markdown",
      "source": [
        "**Esercizio 1:** Creare una tupla vuota e assegnarla a una variabile."
      ],
      "metadata": {
        "id": "TdwyBjSz1fc8"
      }
    },
    {
      "cell_type": "code",
      "source": [
        "tupla_vuota = ()\n",
        "\n",
        "print(tupla_vuota)"
      ],
      "metadata": {
        "colab": {
          "base_uri": "https://localhost:8080/"
        },
        "id": "HPlCzbUo1igc",
        "outputId": "568900b9-abc5-446a-bd4d-8a4eb6da533e"
      },
      "execution_count": 6,
      "outputs": [
        {
          "output_type": "stream",
          "name": "stdout",
          "text": [
            "()\n"
          ]
        }
      ]
    },
    {
      "cell_type": "markdown",
      "source": [
        "**Esercizio 2:** Creare una tupla con i seguenti elementi: \"mela\", \"kiwi\", \"lampone\"."
      ],
      "metadata": {
        "id": "A-Gc1_cv2txA"
      }
    },
    {
      "cell_type": "code",
      "source": [
        "frutta = (\"mela\", \"kiwi\", \"lampone\")\n",
        "\n",
        "print(frutta)"
      ],
      "metadata": {
        "colab": {
          "base_uri": "https://localhost:8080/"
        },
        "id": "gN8UygPQ2yEh",
        "outputId": "0205407f-c30e-4bff-b059-a796130ef21f"
      },
      "execution_count": 7,
      "outputs": [
        {
          "output_type": "stream",
          "name": "stdout",
          "text": [
            "('mela', 'kiwi', 'lampone')\n"
          ]
        }
      ]
    },
    {
      "cell_type": "markdown",
      "source": [
        "**Esercizio 3:** Scrivere un programma che chiede all'utente di inserire una stringa e stampa \"La stringa è vuota\" se la stringa è vuota, altrimenti stampa \"La stringa non è vuota\"."
      ],
      "metadata": {
        "id": "_zXV9_7321bz"
      }
    },
    {
      "cell_type": "code",
      "source": [
        "stringa = input(\"Inserisci una stringa: \")\n",
        "\n",
        "if stringa == \"\":\n",
        "    print(\"La stringa è vuota\")\n",
        "else:\n",
        "    print(\"La stringa non è vuota\")"
      ],
      "metadata": {
        "colab": {
          "base_uri": "https://localhost:8080/"
        },
        "id": "NjPd6Pgo3UYp",
        "outputId": "cdaf7566-8330-4608-848c-27a1b7ff0f32"
      },
      "execution_count": 9,
      "outputs": [
        {
          "output_type": "stream",
          "name": "stdout",
          "text": [
            "Inserisci una stringa: test\n",
            "La stringa non è vuota\n"
          ]
        }
      ]
    },
    {
      "cell_type": "markdown",
      "source": [
        "**Esercizio 4:** Scrivere un programma che chiede all'utente di inserire un numero e stampa \"Il numero è pari\" se il numero è pari, altrimenti stampa \"Il numero è dispari\"."
      ],
      "metadata": {
        "id": "EYJwhrGN3krX"
      }
    },
    {
      "cell_type": "code",
      "source": [
        "numero = int(input(\"Inserisci un numero: \"))\n",
        "\n",
        "if numero % 2 == 0:\n",
        "    print(\"Il numero è pari\")\n",
        "else:\n",
        "    print(\"Il numero è dispari\")"
      ],
      "metadata": {
        "colab": {
          "base_uri": "https://localhost:8080/"
        },
        "id": "3zeCFkeI3qA7",
        "outputId": "30aed845-f481-4fca-96f3-8d56cd3f5072"
      },
      "execution_count": 11,
      "outputs": [
        {
          "output_type": "stream",
          "name": "stdout",
          "text": [
            "Inserisci un numero: 3\n",
            "Il numero è dispari\n"
          ]
        }
      ]
    },
    {
      "cell_type": "markdown",
      "source": [
        "**Esercizio 5:** Scrivere un programma che chiede all'utente di inserire una lettera e stampa \"La lettera è una vocale\" se la lettera è una vocale (a, e, i, o, u), altrimenti stampa \"La lettera non è una vocale\"."
      ],
      "metadata": {
        "id": "TWaY_CNZ38qZ"
      }
    },
    {
      "cell_type": "code",
      "source": [
        "lettera = input(\"Inserisci una lettera: \").lower()\n",
        "\n",
        "if lettera in [\"a\", \"e\", \"i\", \"o\", \"u\"]:\n",
        "    print(\"La lettera è una vocale\")\n",
        "else:\n",
        "    print(\"La lettera non è una vocale\")"
      ],
      "metadata": {
        "colab": {
          "base_uri": "https://localhost:8080/"
        },
        "id": "8kQwLP7d4Dsd",
        "outputId": "73a4a9ed-a361-455f-dd3d-1f0ee3b5a406"
      },
      "execution_count": 13,
      "outputs": [
        {
          "output_type": "stream",
          "name": "stdout",
          "text": [
            "Inserisci una lettera: f\n",
            "La lettera non è una vocale\n"
          ]
        }
      ]
    },
    {
      "cell_type": "markdown",
      "source": [
        "**Esercizio 6:** Creare una nuova tupla concatenando la tupla precedente con la tupla (\"pesca\", \"arancia\")."
      ],
      "metadata": {
        "id": "aK8hasYu5b-r"
      }
    },
    {
      "cell_type": "code",
      "source": [
        "tupla = (\"mela\", \"kiwi\", \"lampone\")\n",
        "tupla_concatenata = tupla + (\"pesca\", \"arancia\")\n",
        "\n",
        "print(tupla_concatenata)"
      ],
      "metadata": {
        "colab": {
          "base_uri": "https://localhost:8080/"
        },
        "id": "LD91-dvh5iQu",
        "outputId": "320466ed-1799-4773-c3b2-264815921166"
      },
      "execution_count": 19,
      "outputs": [
        {
          "output_type": "stream",
          "name": "stdout",
          "text": [
            "('mela', 'kiwi', 'lampone', 'pesca', 'arancia')\n"
          ]
        }
      ]
    },
    {
      "cell_type": "markdown",
      "source": [
        "**Esercizio 7:** Scrivere un programma che chieda all'utente di inserire un numero intero. Se il numero è maggiore di 10, stampare \"Il numero è maggiore di 10\". Se il numero è uguale a 10, stampare \"Il numero è uguale a 10\". Se il numero è minore di 10, stampare \"Il numero è minore di 10\"."
      ],
      "metadata": {
        "id": "imQm-Rfm4-7D"
      }
    },
    {
      "cell_type": "code",
      "source": [
        "numero = int(input(\"Inserisci un numero intero: \"))\n",
        "\n",
        "if numero > 10:\n",
        "    print(\"Il numero è maggiore di 10\")\n",
        "elif numero == 10:\n",
        "    print(\"Il numero è uguale a 10\")\n",
        "else:\n",
        "    print(\"Il numero è minore di 10\")"
      ],
      "metadata": {
        "colab": {
          "base_uri": "https://localhost:8080/"
        },
        "id": "fYzm71mz5Ftz",
        "outputId": "80efd177-c5ac-4741-88aa-930740b5ecc2"
      },
      "execution_count": 18,
      "outputs": [
        {
          "output_type": "stream",
          "name": "stdout",
          "text": [
            "Inserisci un numero intero: 9\n",
            "Il numero è minore di 10\n"
          ]
        }
      ]
    },
    {
      "cell_type": "markdown",
      "source": [
        "**Esercizio 8:** Creare una tupla contenente i numeri interi da 1 a 5."
      ],
      "metadata": {
        "id": "9soqcHiO5Qtw"
      }
    },
    {
      "cell_type": "code",
      "source": [
        "tupla = (1, 2, 3, 4, 5)\n",
        "\n",
        "print(tupla)"
      ],
      "metadata": {
        "colab": {
          "base_uri": "https://localhost:8080/"
        },
        "id": "2wrIb_0o55fK",
        "outputId": "3324eaf9-6ab8-4239-853a-7a2d0c4f831a"
      },
      "execution_count": 26,
      "outputs": [
        {
          "output_type": "stream",
          "name": "stdout",
          "text": [
            "(1, 2, 3, 4, 5)\n"
          ]
        }
      ]
    },
    {
      "cell_type": "markdown",
      "source": [
        "**Esercizio 9 (difficile):** Creare una tupla contenente il quadrato dei numeri interi da 1 a 5."
      ],
      "metadata": {
        "id": "3yOzQr2e6CkC"
      }
    },
    {
      "cell_type": "code",
      "source": [
        "quadrati = tuple(i**2 for i in range(1, 6))\n",
        "\n",
        "print(quadrati)"
      ],
      "metadata": {
        "colab": {
          "base_uri": "https://localhost:8080/"
        },
        "id": "gipAJzGs6wEw",
        "outputId": "73a36092-5423-4007-cf26-4de8bc5294b6"
      },
      "execution_count": 27,
      "outputs": [
        {
          "output_type": "stream",
          "name": "stdout",
          "text": [
            "(1, 4, 9, 16, 25)\n"
          ]
        }
      ]
    },
    {
      "cell_type": "markdown",
      "source": [
        "**Esercizio 10:** Contare il numero di occorrenze dell'elemento \"mela\" nella tupla precedente."
      ],
      "metadata": {
        "id": "cXMOu_H_7bHg"
      }
    },
    {
      "cell_type": "code",
      "source": [
        "frutta = (\"mela\", \"kiwi\", \"lampone\", \"mela\", \"arancia\", \"mela\")\n",
        "occorrenze = frutta.count(\"mela\")\n",
        "\n",
        "print(\"Il numero di occorrenze di 'mela' è:\", occorrenze)"
      ],
      "metadata": {
        "colab": {
          "base_uri": "https://localhost:8080/"
        },
        "id": "l0Nu5K5E7f55",
        "outputId": "24fe1ce3-a948-49fb-8a96-7fde6ef71f9a"
      },
      "execution_count": 30,
      "outputs": [
        {
          "output_type": "stream",
          "name": "stdout",
          "text": [
            "Il numero di occorrenze di 'mela' è: 3\n"
          ]
        }
      ]
    }
  ]
}