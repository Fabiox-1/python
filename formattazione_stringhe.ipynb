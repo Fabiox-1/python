{
  "nbformat": 4,
  "nbformat_minor": 0,
  "metadata": {
    "colab": {
      "provenance": [],
      "authorship_tag": "ABX9TyOOGEfohweBnDRIRGyiwxcq",
      "include_colab_link": true
    },
    "kernelspec": {
      "name": "python3",
      "display_name": "Python 3"
    },
    "language_info": {
      "name": "python"
    }
  },
  "cells": [
    {
      "cell_type": "markdown",
      "metadata": {
        "id": "view-in-github",
        "colab_type": "text"
      },
      "source": [
        "<a href=\"https://colab.research.google.com/github/Fabiox-1/python/blob/main/formattazione_stringhe.ipynb\" target=\"_parent\"><img src=\"https://colab.research.google.com/assets/colab-badge.svg\" alt=\"Open In Colab\"/></a>"
      ]
    },
    {
      "cell_type": "markdown",
      "source": [
        "**Esercizio 1:** Creare due variabili \"nome\" e \"cognome\" e concatenarle a schermo."
      ],
      "metadata": {
        "id": "gu-3Jlzo4FH6"
      }
    },
    {
      "cell_type": "code",
      "source": [
        "nome = \"Luca\"\n",
        "cognome = \"Rossi\"\n",
        "\n",
        "print(nome + \" \" + cognome)"
      ],
      "metadata": {
        "colab": {
          "base_uri": "https://localhost:8080/"
        },
        "id": "dDUZmvg_4Vu1",
        "outputId": "967e8601-ee42-48bc-b86d-7cbd213edf51"
      },
      "execution_count": null,
      "outputs": [
        {
          "output_type": "stream",
          "name": "stdout",
          "text": [
            "Luca Rossi\n"
          ]
        }
      ]
    },
    {
      "cell_type": "markdown",
      "source": [
        "**Esercizio 2:** Utilizzare la formattazione delle stringhe per ottenere \"Il numero è: 42\"."
      ],
      "metadata": {
        "id": "K0Jte2qy4ond"
      }
    },
    {
      "cell_type": "code",
      "source": [
        "stringa = \"Il numero è: {}\"\n",
        "\n",
        "print(stringa.format(42))"
      ],
      "metadata": {
        "colab": {
          "base_uri": "https://localhost:8080/"
        },
        "id": "cjS8Id1741Xk",
        "outputId": "119cb4c2-5f53-4674-9716-b3d77efc4d80"
      },
      "execution_count": null,
      "outputs": [
        {
          "output_type": "stream",
          "name": "stdout",
          "text": [
            "Il numero è: 42\n"
          ]
        }
      ]
    },
    {
      "cell_type": "code",
      "source": [
        "numero = 42\n",
        "stringa = \"Il numero è: {}\".format(numero)\n",
        "\n",
        "print(stringa)"
      ],
      "metadata": {
        "colab": {
          "base_uri": "https://localhost:8080/"
        },
        "id": "71WTRvKK5G09",
        "outputId": "c6eb576c-6637-40a1-aa70-db9af55ca8f5"
      },
      "execution_count": null,
      "outputs": [
        {
          "output_type": "stream",
          "name": "stdout",
          "text": [
            "Il numero è: 42\n"
          ]
        }
      ]
    },
    {
      "cell_type": "code",
      "source": [
        "numero = 42\n",
        "stringa = f\"Il numero è: {numero}\"\n",
        "\n",
        "print(stringa)"
      ],
      "metadata": {
        "colab": {
          "base_uri": "https://localhost:8080/"
        },
        "id": "Sdm0k1_b5dpf",
        "outputId": "71070659-8aeb-4535-885d-9c33ae76bcec"
      },
      "execution_count": null,
      "outputs": [
        {
          "output_type": "stream",
          "name": "stdout",
          "text": [
            "Il numero è: 42\n"
          ]
        }
      ]
    },
    {
      "cell_type": "markdown",
      "source": [
        "**Esercizio 3:** Utilizzare la formattazione delle stringhe per ottenere \"Il numero binario di 42 è 0b101010\". Per il binario utilizzare bin(numero)."
      ],
      "metadata": {
        "id": "O67qwF2M505j"
      }
    },
    {
      "cell_type": "code",
      "source": [
        "numero = 42\n",
        "stringa = f\"Il numero binario di {numero} è {bin(numero)}\"\n",
        "\n",
        "print(stringa)"
      ],
      "metadata": {
        "colab": {
          "base_uri": "https://localhost:8080/"
        },
        "id": "IVVUSOi56CQJ",
        "outputId": "37c372e3-9354-47da-9a39-5683a6add7b8"
      },
      "execution_count": null,
      "outputs": [
        {
          "output_type": "stream",
          "name": "stdout",
          "text": [
            "Il numero binario di 42 è 0b101010\n"
          ]
        }
      ]
    },
    {
      "cell_type": "markdown",
      "source": [
        "**Esercizio 4:** Partendo dalla variabile \"numero\" uguale a 5, utilizzare le f-strings (interpolazione) per ottenere \"Il quadrato di 5 è 25\"."
      ],
      "metadata": {
        "id": "XVm5uwQ260c9"
      }
    },
    {
      "cell_type": "code",
      "source": [
        "numero = 5\n",
        "stringa = f\"Il quadrato di {numero} è {numero**2}\"\n",
        "\n",
        "print(stringa)"
      ],
      "metadata": {
        "colab": {
          "base_uri": "https://localhost:8080/"
        },
        "id": "MtGfuPV-6-kC",
        "outputId": "4074bef0-b964-4292-e662-d6ca88f5eac5"
      },
      "execution_count": null,
      "outputs": [
        {
          "output_type": "stream",
          "name": "stdout",
          "text": [
            "Il quadrato di 5 è 25\n"
          ]
        }
      ]
    },
    {
      "cell_type": "code",
      "source": [
        "import math\n",
        "numero = 5\n",
        "stringa = f\"Il quadrato di {numero} è {int( math.pow(numero,2))}\"\n",
        "\n",
        "print(stringa)"
      ],
      "metadata": {
        "colab": {
          "base_uri": "https://localhost:8080/"
        },
        "id": "utcQGkKf7adA",
        "outputId": "d7038455-a1fa-48e5-84dd-7d102913a1d9"
      },
      "execution_count": null,
      "outputs": [
        {
          "output_type": "stream",
          "name": "stdout",
          "text": [
            "Il quadrato di 5 è 25\n"
          ]
        }
      ]
    },
    {
      "cell_type": "markdown",
      "source": [
        "**Esercizio 5:** Partendo da \"nome\" e \"cognome\" utilizzare la formattazione strighe per ottenere \"Il mio nome è {nome} ed il cognome è {cognome}\". Come da esempio dovete fare riferimento al nome delle variabili e non alla posizione usata dentro format."
      ],
      "metadata": {
        "id": "2G8xacZY8f5u"
      }
    },
    {
      "cell_type": "code",
      "source": [
        "nome = \"Luca\"\n",
        "cognome = \"Rossi\"\n",
        "stringa = f\"Il mio nome è {nome} ed il cognome è {cognome}\"\n",
        "\n",
        "print(stringa)"
      ],
      "metadata": {
        "colab": {
          "base_uri": "https://localhost:8080/"
        },
        "id": "meynz5pP8oiR",
        "outputId": "5e85ef36-7739-44f2-a110-a7701477c1c9"
      },
      "execution_count": 28,
      "outputs": [
        {
          "output_type": "stream",
          "name": "stdout",
          "text": [
            "Il mio nome è Luca ed il cognome è Rossi\n"
          ]
        }
      ]
    },
    {
      "cell_type": "markdown",
      "source": [
        "**Esercizio 6:** Facendo riferimento all'esercizio precedente ottenere il seguente risultato modificando i valori nel format(): \"Il mio nome è LUCA ed il cognome è RoKKi\""
      ],
      "metadata": {
        "id": "4pRmpzdr9NIx"
      }
    },
    {
      "cell_type": "code",
      "source": [
        "nome = \"Luca\".upper()\n",
        "cognome = \"Rossi\".replace(\"ss\", \"KK\")\n",
        "stringa = f\"Il mio nome è {nome} ed il cognome è {cognome}\"\n",
        "\n",
        "print(stringa)"
      ],
      "metadata": {
        "colab": {
          "base_uri": "https://localhost:8080/"
        },
        "id": "2rjU7NvQ9Ujr",
        "outputId": "909ec820-c7f2-4d7f-8938-afe27974c2d3"
      },
      "execution_count": 34,
      "outputs": [
        {
          "output_type": "stream",
          "name": "stdout",
          "text": [
            "Il mio nome è LUCA ed il cognome è RoKKi\n"
          ]
        }
      ]
    }
  ]
}