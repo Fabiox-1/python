{
  "nbformat": 4,
  "nbformat_minor": 0,
  "metadata": {
    "colab": {
      "provenance": [],
      "authorship_tag": "ABX9TyPfuXVYi1ue1K9rMS1qH8RS",
      "include_colab_link": true
    },
    "kernelspec": {
      "name": "python3",
      "display_name": "Python 3"
    },
    "language_info": {
      "name": "python"
    }
  },
  "cells": [
    {
      "cell_type": "markdown",
      "metadata": {
        "id": "view-in-github",
        "colab_type": "text"
      },
      "source": [
        "<a href=\"https://colab.research.google.com/github/Fabiox-1/python/blob/main/condizionali_if.ipynb\" target=\"_parent\"><img src=\"https://colab.research.google.com/assets/colab-badge.svg\" alt=\"Open In Colab\"/></a>"
      ]
    },
    {
      "cell_type": "markdown",
      "source": [
        "**Esercizio 1:** Scrivere un programma che chiede all'utente di inserire un numero e stampa \"Il numero è positivo\" se il numero è maggiore di zero, altrimenti stampa \"Il numero è negativo\""
      ],
      "metadata": {
        "id": "ipnQOUWkRN4z"
      }
    },
    {
      "cell_type": "code",
      "source": [
        "numero = float(input(\"Inserisci un numero: \"))\n",
        "\n",
        "if numero > 0:\n",
        "    print(\"Il numero è positivo\")\n",
        "else:\n",
        "    print(\"Il numero è negativo\")"
      ],
      "metadata": {
        "colab": {
          "base_uri": "https://localhost:8080/"
        },
        "id": "0xjXBq6ZRe0f",
        "outputId": "bb70212f-0973-48ac-a6d8-53d83c9b3536"
      },
      "execution_count": null,
      "outputs": [
        {
          "output_type": "stream",
          "name": "stdout",
          "text": [
            "Inserisci un numero: -3\n",
            "Il numero è negativo\n"
          ]
        }
      ]
    },
    {
      "cell_type": "markdown",
      "source": [
        "**Esercizio 2:** Scrivere un programma che chiede all'utente di inserire due numeri e stampa \"Il primo numero è maggiore\" se il primo numero è maggiore del secondo, \"Il secondo numero è maggiore\" se il secondo numero è maggiore del primo, altrimenti stampa \"I numeri sono uguali\"."
      ],
      "metadata": {
        "id": "t5GRH8b7Rw_l"
      }
    },
    {
      "cell_type": "code",
      "source": [
        "numero1 = float(input(\"Inserisci il primo numero: \"))\n",
        "numero2 = float(input(\"Inserisci il secondo numero: \"))\n",
        "\n",
        "if numero1 > numero2:\n",
        "    print(\"Il primo numero è maggiore\")\n",
        "elif numero1 < numero2:\n",
        "    print(\"Il secondo numero è maggiore\")\n",
        "else:\n",
        "    print(\"I numeri sono uguali\")"
      ],
      "metadata": {
        "colab": {
          "base_uri": "https://localhost:8080/"
        },
        "id": "tdxfmuraR2K8",
        "outputId": "bca43654-217a-4991-d3fb-73b238d30ccb"
      },
      "execution_count": null,
      "outputs": [
        {
          "output_type": "stream",
          "name": "stdout",
          "text": [
            "Inserisci il primo numero: 5\n",
            "Inserisci il secondo numero: 3\n",
            "Il primo numero è maggiore\n"
          ]
        }
      ]
    },
    {
      "cell_type": "markdown",
      "source": [
        "**Esercizio 2a:** Dati tre numeri da input, trovare il maggiore tra i tre."
      ],
      "metadata": {
        "id": "FfHa3wN4TO1h"
      }
    },
    {
      "cell_type": "code",
      "source": [
        "numero1 = float(input(\"Inserisci il primo numero: \"))\n",
        "numero2 = float(input(\"Inserisci il secondo numero: \"))\n",
        "numero3 = float(input(\"Inserisci il terzo numero: \"))\n",
        "\n",
        "if (numero1 != numero2 or numero2 != numero3 or numero1 != numero3):\n",
        "  if numero1 >= numero2 and numero1 >= numero3:\n",
        "    print(\"Il numero maggiore è\", numero1)\n",
        "  elif numero2 >= numero3:\n",
        "    print(\"Il numero maggiore è\", numero2)\n",
        "  else:\n",
        "    print(\"Il numero maggiore è\", numero3)\n",
        "\n",
        "else:\n",
        "  print(\"I tre numeri sono uguali\")"
      ],
      "metadata": {
        "colab": {
          "base_uri": "https://localhost:8080/"
        },
        "id": "3fxSgnYETmUL",
        "outputId": "165bc2c1-6c8b-4775-8de4-53fe00e62840"
      },
      "execution_count": null,
      "outputs": [
        {
          "output_type": "stream",
          "name": "stdout",
          "text": [
            "Inserisci il primo numero: 4\n",
            "Inserisci il secondo numero: 3\n",
            "Inserisci il terzo numero: 4\n",
            "Il numero maggiore è 4.0\n"
          ]
        }
      ]
    },
    {
      "cell_type": "code",
      "source": [
        "numero1 = float(input(\"Inserisci il primo numero: \"))\n",
        "numero2 = float(input(\"Inserisci il secondo numero: \"))\n",
        "numero3 = float(input(\"Inserisci il terzo numero: \"))\n",
        "\n",
        "maggiore = max(numero1, numero2, numero3)\n",
        "\n",
        "print(f\"Il numero maggiore è: {maggiore}\")"
      ],
      "metadata": {
        "colab": {
          "base_uri": "https://localhost:8080/"
        },
        "id": "ZEP-3YnVUhcu",
        "outputId": "12b94a57-92f8-4f21-d20e-512ba5f58de4"
      },
      "execution_count": null,
      "outputs": [
        {
          "output_type": "stream",
          "name": "stdout",
          "text": [
            "Inserisci il primo numero: 30\n",
            "Inserisci il secondo numero: 10\n",
            "Inserisci il terzo numero: 20\n",
            "Il numero maggiore è: 30.0\n"
          ]
        }
      ]
    },
    {
      "cell_type": "markdown",
      "source": [
        "**Esercizio 3:** Scrivere un programma che chiede all'utente di inserire una stringa e stampa \"La stringa è vuota\" se la stringa è vuota, altrimenti stampa \"La stringa non è vuota\"."
      ],
      "metadata": {
        "id": "pwUTZq7FaRsb"
      }
    },
    {
      "cell_type": "code",
      "source": [
        "stringa = input(\"Inserisci una stringa: \")\n",
        "\n",
        "if stringa == \"\":\n",
        "    print(\"La stringa è vuota\")\n",
        "else:\n",
        "    print(\"La stringa non è vuota\")"
      ],
      "metadata": {
        "colab": {
          "base_uri": "https://localhost:8080/"
        },
        "id": "WYd90saTwwKf",
        "outputId": "bb062d8f-b19e-4acf-8ec5-717ca0c232af"
      },
      "execution_count": 4,
      "outputs": [
        {
          "output_type": "stream",
          "name": "stdout",
          "text": [
            "Inserisci una stringa: test\n",
            "La stringa non è vuota\n"
          ]
        }
      ]
    },
    {
      "cell_type": "code",
      "source": [
        "stringa = input(\"Inserisci una stringa: \")\n",
        "\n",
        "if not stringa:\n",
        "  print(\"La stringa è vuota\")\n",
        "else:\n",
        "  print(\"La stringa non è vuota\")"
      ],
      "metadata": {
        "colab": {
          "base_uri": "https://localhost:8080/"
        },
        "id": "SAtXiTS8xZYE",
        "outputId": "49a472c2-0bcf-4856-f717-0a9daf79d349"
      },
      "execution_count": 9,
      "outputs": [
        {
          "output_type": "stream",
          "name": "stdout",
          "text": [
            "Inserisci una stringa: 20\n",
            "La stringa non è vuota\n"
          ]
        }
      ]
    },
    {
      "cell_type": "markdown",
      "source": [
        "**Esercizio 4:** Scrivere un programma che chiede all'utente di inserire un numero e stampa \"Il numero è pari\" se il numero è pari, altrimenti stampa \"Il numero è dispari\"."
      ],
      "metadata": {
        "id": "3_v8dQ-bxP5M"
      }
    },
    {
      "cell_type": "code",
      "source": [
        "numero = int(input(\"Inserisci un numero: \"))\n",
        "\n",
        "if numero % 2 == 0:\n",
        "    print(\"Il numero è pari\")\n",
        "else:\n",
        "    print(\"Il numero è dispari\")"
      ],
      "metadata": {
        "colab": {
          "base_uri": "https://localhost:8080/"
        },
        "id": "ZSFArz48yB8X",
        "outputId": "2286e105-4ab1-4cfa-be92-aabb5e4c77f1"
      },
      "execution_count": 12,
      "outputs": [
        {
          "output_type": "stream",
          "name": "stdout",
          "text": [
            "Inserisci un numero: 3\n",
            "Il numero è dispari\n"
          ]
        }
      ]
    },
    {
      "cell_type": "markdown",
      "source": [
        "**Esercizio 5:** Scrivere un programma che chiede all'utente di inserire una lettera e stampa \"La lettera è una vocale\" se la lettera è una vocale (a, e, i, o, u), altrimenti stampa \"La lettera non è una vocale\"."
      ],
      "metadata": {
        "id": "RuyGGDhOyLkl"
      }
    },
    {
      "cell_type": "code",
      "source": [
        "lettera = input(\"Inserisci una lettera: \").lower()\n",
        "\n",
        "if lettera in \"aeiou\":\n",
        "    print(\"La lettera è una vocale\")\n",
        "else:\n",
        "    print(\"La lettera non è una vocale\")"
      ],
      "metadata": {
        "colab": {
          "base_uri": "https://localhost:8080/"
        },
        "id": "EyJ7_KNoyT6U",
        "outputId": "0f771967-a70a-4ea1-cc83-baccfe9309cd"
      },
      "execution_count": 19,
      "outputs": [
        {
          "output_type": "stream",
          "name": "stdout",
          "text": [
            "Inserisci una lettera: U\n",
            "La lettera è una vocale\n"
          ]
        }
      ]
    },
    {
      "cell_type": "markdown",
      "source": [
        "**Esercizio 6:** Scrivere un programma che chiede all'utente di inserire un numero e stampa \"Il numero è compreso tra 1 e 10\" se il numero è compreso tra 1 e 10, altrimenti stampa \"Il numero non è compreso tra 1 e 10\"."
      ],
      "metadata": {
        "id": "QOfX953CyyBQ"
      }
    },
    {
      "cell_type": "code",
      "source": [
        "numero = int(input(\"Inserisci un numero: \"))\n",
        "\n",
        "if numero >= 1 and numero <= 10:\n",
        "    print(\"Il numero è compreso tra 1 e 10\")\n",
        "else:\n",
        "    print(\"Il numero non è compreso tra 1 e 10\")"
      ],
      "metadata": {
        "colab": {
          "base_uri": "https://localhost:8080/"
        },
        "id": "AzYgaYjoy1uc",
        "outputId": "c4ac9dc0-9d5b-4be2-d68c-e94fa635315a"
      },
      "execution_count": 22,
      "outputs": [
        {
          "output_type": "stream",
          "name": "stdout",
          "text": [
            "Inserisci un numero: 9\n",
            "Il numero è compreso tra 1 e 10\n"
          ]
        }
      ]
    },
    {
      "cell_type": "markdown",
      "source": [
        "**Esercizio 7:** Scrivere un programma che chieda all'utente di inserire un numero intero. Se il numero è maggiore di 10, stampare \"Il numero è maggiore di 10\". Se il numero è uguale a 10, stampare \"Il numero è uguale a 10\". Se il numero è minore di 10, stampare \"Il numero è minore di 10\"."
      ],
      "metadata": {
        "id": "ngMAsBhxzKFY"
      }
    },
    {
      "cell_type": "code",
      "source": [
        "numero = int(input(\"Inserisci un numero: \"))\n",
        "\n",
        "if numero > 10:\n",
        "    print(\"Il numero è maggiore di 10\")\n",
        "elif numero == 10:\n",
        "    print(\"Il numero è uguale a 10\")\n",
        "else:\n",
        "    print(\"Il numero è minore di 10\")"
      ],
      "metadata": {
        "colab": {
          "base_uri": "https://localhost:8080/"
        },
        "id": "eaz84hlPzOMo",
        "outputId": "0ce4ba72-0703-425b-bdf6-da91f4c203d0"
      },
      "execution_count": 26,
      "outputs": [
        {
          "output_type": "stream",
          "name": "stdout",
          "text": [
            "Inserisci un numero: 9\n",
            "Il numero è minore di 10\n"
          ]
        }
      ]
    },
    {
      "cell_type": "markdown",
      "source": [
        "**Esercizio 8:** Scrivere un programma che chieda all'utente di inserire un carattere. Se il carattere è una vocale (a, e, i, o, u), stampare \"Il carattere inserito è una vocale\". Se il carattere è una consonante isAlpha(), stampare \"Il carattere inserito è una consonante\". Se il carattere non è una lettera, stampare \"Il carattere inserito non è una lettera\"."
      ],
      "metadata": {
        "id": "_oYp7u83zrFa"
      }
    },
    {
      "cell_type": "code",
      "source": [
        "carattere = input(\"Inserisci un carattere: \").lower()\n",
        "\n",
        "if len(carattere) != 1:\n",
        "    print(\"Inserisci un solo carattere.\")\n",
        "elif carattere in ['a', 'e', 'i', 'o', 'u']:\n",
        "    print(\"Il carattere inserito è una vocale\")\n",
        "elif carattere.isalpha():\n",
        "    print(\"Il carattere inserito è una consonante\")\n",
        "else:\n",
        "    print(\"Il carattere inserito non è una lettera\")"
      ],
      "metadata": {
        "colab": {
          "base_uri": "https://localhost:8080/"
        },
        "id": "nk40ueDI0C1Y",
        "outputId": "ce9525ee-0ca3-4486-924c-373a03fde386"
      },
      "execution_count": 36,
      "outputs": [
        {
          "output_type": "stream",
          "name": "stdout",
          "text": [
            "Inserisci un carattere: f\n",
            "Il carattere inserito è una consonante\n"
          ]
        }
      ]
    }
  ]
}