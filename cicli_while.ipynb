{
  "nbformat": 4,
  "nbformat_minor": 0,
  "metadata": {
    "colab": {
      "provenance": [],
      "authorship_tag": "ABX9TyOT9tVURGR8a0xEz56fQSB5",
      "include_colab_link": true
    },
    "kernelspec": {
      "name": "python3",
      "display_name": "Python 3"
    },
    "language_info": {
      "name": "python"
    }
  },
  "cells": [
    {
      "cell_type": "markdown",
      "metadata": {
        "id": "view-in-github",
        "colab_type": "text"
      },
      "source": [
        "<a href=\"https://colab.research.google.com/github/Fabiox-1/python/blob/main/cicli_while.ipynb\" target=\"_parent\"><img src=\"https://colab.research.google.com/assets/colab-badge.svg\" alt=\"Open In Colab\"/></a>"
      ]
    },
    {
      "cell_type": "markdown",
      "source": [
        "**Esercizio 1:** Stampare i numeri interi da 1 a 10 usando un loop while."
      ],
      "metadata": {
        "id": "cr80BOkhKJWP"
      }
    },
    {
      "cell_type": "code",
      "source": [
        "numero = 1\n",
        "\n",
        "while numero <= 10:\n",
        "  print(numero)\n",
        "  numero += 1"
      ],
      "metadata": {
        "colab": {
          "base_uri": "https://localhost:8080/"
        },
        "id": "0T0ZPGCVKMCI",
        "outputId": "6e0ee5f9-7fd5-4f76-fc2b-7cfb5c0d28c5"
      },
      "execution_count": 6,
      "outputs": [
        {
          "output_type": "stream",
          "name": "stdout",
          "text": [
            "1\n",
            "2\n",
            "3\n",
            "4\n",
            "5\n",
            "6\n",
            "7\n",
            "8\n",
            "9\n",
            "10\n"
          ]
        }
      ]
    },
    {
      "cell_type": "markdown",
      "source": [
        "**Esercizio 2:** Calcolare la somma dei primi n numeri interi positivi usando un loop while. L'utente deve inserire il valore di n."
      ],
      "metadata": {
        "id": "tuCEvQFnKeWQ"
      }
    },
    {
      "cell_type": "code",
      "source": [
        "n = int(input(\"Inserisci un numero intero positivo: \"))\n",
        "\n",
        "somma = 0\n",
        "numero = 1\n",
        "\n",
        "while numero <= n:\n",
        "  somma += numero\n",
        "  numero += 1\n",
        "\n",
        "print(f\"La somma dei primi {n} numeri interi positivi è: {somma}\")"
      ],
      "metadata": {
        "colab": {
          "base_uri": "https://localhost:8080/"
        },
        "id": "doY3JyUyKhjk",
        "outputId": "1aa45947-b05b-4b83-d70c-b4d95d8f9a94"
      },
      "execution_count": 7,
      "outputs": [
        {
          "output_type": "stream",
          "name": "stdout",
          "text": [
            "Inserisci un numero intero positivo: 5\n",
            "La somma dei primi 5 numeri interi positivi è: 15\n"
          ]
        }
      ]
    },
    {
      "cell_type": "markdown",
      "source": [
        "**Esercizio 3:** Stampare i numeri pari da 2 a 10 usando un loop while."
      ],
      "metadata": {
        "id": "RL2AB-iENibG"
      }
    },
    {
      "cell_type": "code",
      "source": [
        "numero = 2\n",
        "\n",
        "while numero <= 10:\n",
        "  print(numero)\n",
        "  numero += 2"
      ],
      "metadata": {
        "colab": {
          "base_uri": "https://localhost:8080/"
        },
        "id": "sQsY8xh6Nl4W",
        "outputId": "9c517e42-444a-4e30-d540-709557f0be37"
      },
      "execution_count": 8,
      "outputs": [
        {
          "output_type": "stream",
          "name": "stdout",
          "text": [
            "2\n",
            "4\n",
            "6\n",
            "8\n",
            "10\n"
          ]
        }
      ]
    },
    {
      "cell_type": "code",
      "source": [
        "i = 2\n",
        "\n",
        "while i <= 10:\n",
        "  if i%2==0:\n",
        "    print(i)\n",
        "  i += 1"
      ],
      "metadata": {
        "colab": {
          "base_uri": "https://localhost:8080/"
        },
        "id": "opX5IBklOX3S",
        "outputId": "f36522de-36ca-49b5-9635-22d5cf54cd69"
      },
      "execution_count": 9,
      "outputs": [
        {
          "output_type": "stream",
          "name": "stdout",
          "text": [
            "2\n",
            "4\n",
            "6\n",
            "8\n",
            "10\n"
          ]
        }
      ]
    },
    {
      "cell_type": "markdown",
      "source": [
        "**Esercizio 4:** Chiedere all'utente di indovinare un numero intero casuale compreso tra 1 e 10. Continuare a chiedere all'utente di indovinare finché non indovina il numero corretto. Usare un loop while."
      ],
      "metadata": {
        "id": "ZgSePhjeP2zi"
      }
    },
    {
      "cell_type": "code",
      "source": [
        "import random\n",
        "\n",
        "numero_casuale = random.randint(1, 10)\n",
        "print(\"Numero da indovinare: \", numero_casuale)\n",
        "indovinato = False\n",
        "\n",
        "while not indovinato:\n",
        "  try:\n",
        "    numero_utente = int(input(\"Indovina un numero tra 1 e 10: \"))\n",
        "\n",
        "    if numero_utente == numero_casuale:\n",
        "      print(\"Complimenti! Hai indovinato il numero!\")\n",
        "      indovinato = True\n",
        "    else:\n",
        "      print(\"Numero sbagliato. Riprova!\")\n",
        "  except ValueError:\n",
        "      print(\"Per favore, inserisci un numero intero valido.\")"
      ],
      "metadata": {
        "colab": {
          "base_uri": "https://localhost:8080/"
        },
        "id": "ryxfrHFcP8aw",
        "outputId": "b5ca9459-347b-4dbb-f6df-9733c77ec8f5"
      },
      "execution_count": 13,
      "outputs": [
        {
          "output_type": "stream",
          "name": "stdout",
          "text": [
            "Numero da indovinare:  7\n",
            "Indovina un numero tra 1 e 10: 3\n",
            "Numero sbagliato. Riprova!\n",
            "Indovina un numero tra 1 e 10: 5.2\n",
            "Per favore, inserisci un numero intero valido.\n",
            "Indovina un numero tra 1 e 10: 7\n",
            "Complimenti! Hai indovinato il numero!\n"
          ]
        }
      ]
    },
    {
      "cell_type": "markdown",
      "source": [
        "**Esercizio 5:** Chiedere all'utente di inserire una stringa. Stampare la stringa al contrario usando un loop while."
      ],
      "metadata": {
        "id": "mEZYpPVfR94m"
      }
    },
    {
      "cell_type": "code",
      "source": [
        "stringa = input(\"Inserisci una stringa: \")\n",
        "\n",
        "lunghezza = len(stringa)\n",
        "indice = lunghezza - 1\n",
        "\n",
        "while indice >= 0:\n",
        "  print(stringa[indice], end=\"\")\n",
        "  indice -= 1\n",
        "\n",
        "print() # Per andare a capo dopo aver stampato la stringa al contrario"
      ],
      "metadata": {
        "colab": {
          "base_uri": "https://localhost:8080/"
        },
        "id": "C1oIC5FqU95a",
        "outputId": "dca97a2e-b7de-4815-a929-2c3cb283839b"
      },
      "execution_count": 18,
      "outputs": [
        {
          "output_type": "stream",
          "name": "stdout",
          "text": [
            "Inserisci una stringa: prova\n",
            "avorp\n"
          ]
        }
      ]
    },
    {
      "cell_type": "markdown",
      "source": [
        "**Esercizio 6:** Stampare i numeri da 10 a 1 usando un loop while."
      ],
      "metadata": {
        "id": "LnWSwrmwWFJ5"
      }
    },
    {
      "cell_type": "code",
      "source": [
        "numero = 10\n",
        "\n",
        "while numero >= 1:\n",
        "  print(numero)\n",
        "  numero -= 1"
      ],
      "metadata": {
        "colab": {
          "base_uri": "https://localhost:8080/"
        },
        "id": "AWJ0dl6wWefv",
        "outputId": "bec6a4ef-23bf-4aff-9820-834bc801dcbd"
      },
      "execution_count": 20,
      "outputs": [
        {
          "output_type": "stream",
          "name": "stdout",
          "text": [
            "10\n",
            "9\n",
            "8\n",
            "7\n",
            "6\n",
            "5\n",
            "4\n",
            "3\n",
            "2\n",
            "1\n"
          ]
        }
      ]
    },
    {
      "cell_type": "markdown",
      "source": [
        "**Esercizio 7:** Calcolare il fattoriale di un numero intero positivo n usando un loop while."
      ],
      "metadata": {
        "id": "TnkJG8gkWuVy"
      }
    },
    {
      "cell_type": "code",
      "source": [
        "n = int(input(\"Inserisci un numero intero positivo: \"))\n",
        "fattoriale = 1\n",
        "\n",
        "if n < 0:\n",
        "    print(\"Il fattoriale non è definito per numeri negativi.\")\n",
        "else:\n",
        "    i = 1\n",
        "    while n > 1:\n",
        "        fattoriale *= n\n",
        "        n -= 1\n",
        "\n",
        "    print(f\"Il fattoriale di {n} è: {fattoriale}\")"
      ],
      "metadata": {
        "colab": {
          "base_uri": "https://localhost:8080/"
        },
        "id": "KYudJcz1Xp0v",
        "outputId": "681d1a4e-7e8b-4a2f-f55d-7768d368a057"
      },
      "execution_count": 36,
      "outputs": [
        {
          "output_type": "stream",
          "name": "stdout",
          "text": [
            "Inserisci un numero intero positivo: 5\n",
            "Il fattoriale di 1 è: 120\n"
          ]
        }
      ]
    },
    {
      "cell_type": "code",
      "source": [
        "# Calcolo del fattoriale iterativamente\n",
        "numero = int(input(\"Inserisci un numero di cui calcolare il fattoriale: \"))\n",
        "fattoriale = numero\n",
        "contatore = numero - 1\n",
        "\n",
        "if numero < 0:\n",
        "    print(\"Il fattoriale non è definito per numeri negativi.\")\n",
        "elif numero == 0:\n",
        "    print(\"Calcolo del fattoriale calcolato iterativamente è: 1\")\n",
        "else:\n",
        "    while contatore >= 1:\n",
        "        fattoriale *= contatore\n",
        "        contatore -= 1\n",
        "    print(\"Calcolo del fattoriale calcolato iterativamente è:\", fattoriale)\n",
        "\n",
        "\n",
        "# Calcolo del fattoriale ricorsivamente\n",
        "def fattoriale_ricorsivo(n):\n",
        "    if n == 0:  # Caso base per 0\n",
        "        return 1\n",
        "    elif n == 1:  # Caso base per 1\n",
        "        return 1\n",
        "    elif n < 0:  # Controllo per numeri negativi\n",
        "        return \"Il fattoriale non è definito per numeri negativi.\"\n",
        "    else:  # Chiamata ricorsiva\n",
        "        return n * fattoriale_ricorsivo(n - 1)\n",
        "\n",
        "# Calcolare e stampare il risultato ricorsivo\n",
        "risultato = fattoriale_ricorsivo(numero)\n",
        "print(\"Calcolo del fattoriale calcolato ricorsivamente:\", risultato)"
      ],
      "metadata": {
        "colab": {
          "base_uri": "https://localhost:8080/"
        },
        "id": "ICIB8TzIcLZi",
        "outputId": "00f86aa2-32a8-4bb1-dc17-bce33d361005"
      },
      "execution_count": 45,
      "outputs": [
        {
          "output_type": "stream",
          "name": "stdout",
          "text": [
            "Inserisci un numero di cui calcolare il fattoriale: 5\n",
            "Calcolo del fattoriale calcolato iterativamente è: 120\n",
            "Calcolo del fattoriale calcolato ricorsivamente: 120\n"
          ]
        }
      ]
    },
    {
      "cell_type": "markdown",
      "source": [
        "**Esercizio 8:** Chiedere all'utente di inserire una lista di numeri interi. Stampare la somma di tutti i numeri usando un loop while."
      ],
      "metadata": {
        "id": "Dy1T6RITX7Se"
      }
    },
    {
      "cell_type": "code",
      "source": [
        "numeri = input(\"Inserisci una lista di numeri interi separati da uno spazio: \").split()\n",
        "\n",
        "somma = 0\n",
        "indice = 0\n",
        "\n",
        "while indice < len(numeri):\n",
        "    somma += int(numeri[indice])\n",
        "    indice += 1\n",
        "\n",
        "print(\"La somma dei numeri inseriti è:\", somma)"
      ],
      "metadata": {
        "colab": {
          "base_uri": "https://localhost:8080/"
        },
        "id": "3IoggNkyc_LE",
        "outputId": "96740bd1-a317-46e6-db19-ed66969af4bb"
      },
      "execution_count": 54,
      "outputs": [
        {
          "output_type": "stream",
          "name": "stdout",
          "text": [
            "Inserisci una lista di numeri interi separati da uno spazio: 18 0 2 3\n",
            "La somma dei numeri inseriti è: 23\n"
          ]
        }
      ]
    },
    {
      "cell_type": "markdown",
      "source": [
        "**Esercizio 9:** Chiedere all'utente di inserire una stringa. Stampare solo le consonanti della stringa usando un loop while."
      ],
      "metadata": {
        "id": "E1BnMDakesyV"
      }
    },
    {
      "cell_type": "code",
      "source": [
        "stringa = input(\"Inserisci una stringa: \")\n",
        "\n",
        "consonanti = \"bcdfghlmnpqrstvwxyz\"\n",
        "\n",
        "i = 0\n",
        "\n",
        "while i < len(stringa):\n",
        "    if stringa[i].lower() in consonanti:\n",
        "        print(stringa[i])\n",
        "    i += 1"
      ],
      "metadata": {
        "colab": {
          "base_uri": "https://localhost:8080/"
        },
        "id": "pexpgC--ucoJ",
        "outputId": "9ea1dce1-ad46-4ed6-ed08-9e755260eeec"
      },
      "execution_count": 58,
      "outputs": [
        {
          "output_type": "stream",
          "name": "stdout",
          "text": [
            "Inserisci una stringa: prova\n",
            "p\n",
            "r\n",
            "v\n"
          ]
        }
      ]
    },
    {
      "cell_type": "markdown",
      "source": [],
      "metadata": {
        "id": "sG9UziepvyeA"
      }
    }
  ]
}