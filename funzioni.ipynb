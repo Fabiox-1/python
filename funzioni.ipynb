{
  "nbformat": 4,
  "nbformat_minor": 0,
  "metadata": {
    "colab": {
      "provenance": [],
      "authorship_tag": "ABX9TyOZ9bHpLw7OkFHd24aM+JQs",
      "include_colab_link": true
    },
    "kernelspec": {
      "name": "python3",
      "display_name": "Python 3"
    },
    "language_info": {
      "name": "python"
    }
  },
  "cells": [
    {
      "cell_type": "markdown",
      "metadata": {
        "id": "view-in-github",
        "colab_type": "text"
      },
      "source": [
        "<a href=\"https://colab.research.google.com/github/Fabiox-1/python/blob/main/funzioni.ipynb\" target=\"_parent\"><img src=\"https://colab.research.google.com/assets/colab-badge.svg\" alt=\"Open In Colab\"/></a>"
      ]
    },
    {
      "cell_type": "markdown",
      "source": [
        "**Esercizio 1:** Scrivi una funzione che prende una lista di numeri e restituisce la somma di tutti gli elementi."
      ],
      "metadata": {
        "id": "Zf5xzJENv-9R"
      }
    },
    {
      "cell_type": "code",
      "source": [
        "def somma_lista(lista):\n",
        "    somma = 0\n",
        "    for numero in lista:\n",
        "        somma += numero\n",
        "    return somma\n",
        "\n",
        "lista_numeri = [1, 2, 3, 4, 5]\n",
        "risultato = somma_lista(lista_numeri)\n",
        "\n",
        "print(f\"La somma della lista {lista_numeri} è: {risultato}\")"
      ],
      "metadata": {
        "colab": {
          "base_uri": "https://localhost:8080/"
        },
        "id": "U_Pc9AbHwEsL",
        "outputId": "8c2436f3-8af5-4cbe-a062-5ac9a786fc5a"
      },
      "execution_count": 6,
      "outputs": [
        {
          "output_type": "stream",
          "name": "stdout",
          "text": [
            "La somma della lista [1, 2, 3, 4, 5] è: 15\n"
          ]
        }
      ]
    },
    {
      "cell_type": "markdown",
      "source": [
        "**Esercizio 2:** Scrivi una funzione che prende una stringa e restituisce la stringa invertita."
      ],
      "metadata": {
        "id": "SItdp7KBxPS2"
      }
    },
    {
      "cell_type": "code",
      "source": [
        "def inverti_stringa(stringa):\n",
        "    stringa_invertita = stringa[::-1]\n",
        "    return stringa_invertita\n",
        "\n",
        "print(inverti_stringa(\"ciao\"))"
      ],
      "metadata": {
        "colab": {
          "base_uri": "https://localhost:8080/"
        },
        "id": "D1pEzKEtxSDH",
        "outputId": "65fec5e2-2760-4906-8f5b-b61e0a723673"
      },
      "execution_count": 17,
      "outputs": [
        {
          "output_type": "stream",
          "name": "stdout",
          "text": [
            "oaic\n"
          ]
        }
      ]
    },
    {
      "cell_type": "markdown",
      "source": [
        "**Esercizio 3:** Scrivi una funzione che prende una lista di parole e restituisce una lista contenente solo le parole che iniziano con una lettera specificata."
      ],
      "metadata": {
        "id": "-MJu1QWgywu7"
      }
    },
    {
      "cell_type": "code",
      "source": [
        "def filtra_parole_per_lettera(lista_parole, lettera):\n",
        "    \"\"\"\n",
        "    Filtra tutte le parole che iniziano con una determinata lettera.\n",
        "    :param lista_parole: Lista di parole.\n",
        "    :param lettera: Lettera con cui devono iniziare le parole.\n",
        "    :return: Lista di parole che iniziano con la lettera specificata.\n",
        "    \"\"\"\n",
        "    risultato = []\n",
        "    for parola in lista_parole:\n",
        "        # Controlla se la parola inizia con la lettera\n",
        "        if parola.startswith(lettera):\n",
        "            risultato.append(parola)\n",
        "    return risultato  # Restituisce l'intera lista di parole filtrate\n",
        "\n",
        "# Creazione di una lista di parole da input utente\n",
        "lista = list(input(\"Inserisci una o più parole per creare una lista: \").split())\n",
        "lettera = input(\"Inserisci una lettera: \")\n",
        "\n",
        "# Filtraggio delle parole\n",
        "words = filtra_parole_per_lettera(lista, lettera)\n",
        "\n",
        "# Stampa del risultato\n",
        "if words:\n",
        "    print(f\"Parole nella lista, filtrate per lettera '{lettera}': {words}\")\n",
        "else:\n",
        "    print(f\"Nessuna parola nella lista inizia con la lettera '{lettera}'\")"
      ],
      "metadata": {
        "colab": {
          "base_uri": "https://localhost:8080/"
        },
        "id": "-Fqw_C5o20GR",
        "outputId": "8784f344-9be2-4b15-e5a8-dbd54ed2896d"
      },
      "execution_count": 24,
      "outputs": [
        {
          "output_type": "stream",
          "name": "stdout",
          "text": [
            "Inserisci una o più parole per creare una lista: cane gatto cavallo\n",
            "Inserisci una lettera: c\n",
            "Parole nella lista, filtrate per lettera 'c': ['cane', 'cavallo']\n"
          ]
        }
      ]
    },
    {
      "cell_type": "markdown",
      "source": [
        "**Esercizio 4:** Scrivi una funzione che prende una lista di numeri e restituisce una lista contenente solo i numeri pari."
      ],
      "metadata": {
        "id": "x0Ep-LRU2824"
      }
    },
    {
      "cell_type": "code",
      "source": [
        "def filtra_numeri_pari(lista):\n",
        "    \"\"\"\n",
        "    Filtra i numeri pari da una lista di numeri.\n",
        "    :param lista: Lista di numeri interi.\n",
        "    :return: Lista contenente solo i numeri pari.\n",
        "    \"\"\"\n",
        "    numeri_pari = []\n",
        "    for numero in lista:\n",
        "        if numero % 2 == 0:  # Controlla se il numero è pari\n",
        "            numeri_pari.append(numero)\n",
        "    return numeri_pari\n",
        "\n",
        "# Lista di numeri\n",
        "numeri = [1, 2, 3, 4, 5, 6, 7, 8]\n",
        "\n",
        "# Filtraggio dei numeri pari\n",
        "pari = filtra_numeri_pari(numeri)\n",
        "\n",
        "# Stampa del risultato\n",
        "print(\"Numeri pari:\", pari)"
      ],
      "metadata": {
        "colab": {
          "base_uri": "https://localhost:8080/"
        },
        "id": "ayf3po3C3BrZ",
        "outputId": "d5983f17-f5a1-40a3-9bc2-69f04d3e2cf7"
      },
      "execution_count": 25,
      "outputs": [
        {
          "output_type": "stream",
          "name": "stdout",
          "text": [
            "Numeri pari: [2, 4, 6, 8]\n"
          ]
        }
      ]
    },
    {
      "cell_type": "markdown",
      "source": [
        "**Esercizio 5:** Scrivi una funzione che prende una lista di parole e restituisce una lista contenente la lunghezza di ciascuna parola."
      ],
      "metadata": {
        "id": "BJg1CTkx3Slk"
      }
    },
    {
      "cell_type": "code",
      "source": [
        "def lunghezza_parole(lista_parole):\n",
        "    \"\"\"\n",
        "    Calcola la lunghezza di ogni parola nella lista.\n",
        "    :param lista_parole: Lista di parole.\n",
        "    :return: Lista contenente la lunghezza di ogni parola.\n",
        "    \"\"\"\n",
        "    risultato = []\n",
        "    for parola in lista_parole:\n",
        "        risultato.append(len(parola))\n",
        "    return risultato\n",
        "\n",
        "# Lista di parole\n",
        "lista = [\"provola\", \"pane\", \"pizza\", \"pasta\"]\n",
        "\n",
        "# Calcolo delle lunghezze delle parole\n",
        "lunghezze = lunghezza_parole(lista)\n",
        "\n",
        "# Stampa del risultato\n",
        "print(\"Lunghezza delle parole:\", lunghezze)"
      ],
      "metadata": {
        "colab": {
          "base_uri": "https://localhost:8080/"
        },
        "id": "KhfizEjY3V3b",
        "outputId": "54f7f091-ffca-4860-b5e5-8c60c3581cb6"
      },
      "execution_count": 27,
      "outputs": [
        {
          "output_type": "stream",
          "name": "stdout",
          "text": [
            "Lunghezza delle parole: [7, 4, 5, 5]\n"
          ]
        }
      ]
    },
    {
      "cell_type": "markdown",
      "source": [
        "**Esercizio 6:** Scrivi una funzione che prende una lista di numeri e restituisce il valore massimo."
      ],
      "metadata": {
        "id": "gDzRgl4Z30KU"
      }
    },
    {
      "cell_type": "code",
      "source": [
        "def valore_massimo(lista_numeri):\n",
        "    \"\"\"\n",
        "    Trova il valore massimo in una lista di numeri.\n",
        "    :param lista_numeri: Lista di numeri interi o decimali.\n",
        "    :return: Il valore massimo nella lista.\n",
        "    \"\"\"\n",
        "    massimo = lista_numeri[0]\n",
        "    for numero in lista_numeri:\n",
        "        if numero > massimo:  # Confronta ogni numero con il massimo corrente\n",
        "            massimo = numero\n",
        "    return massimo\n",
        "\n",
        "# Lista di numeri\n",
        "lista = [1, 2, 3, 4, 5]\n",
        "\n",
        "# Calcolo del valore massimo\n",
        "massimo = valore_massimo(lista)\n",
        "\n",
        "# Stampa del risultato\n",
        "print(\"Il valore massimo nella lista è:\", massimo)"
      ],
      "metadata": {
        "colab": {
          "base_uri": "https://localhost:8080/"
        },
        "id": "fyE0m0W433ZR",
        "outputId": "70762953-82f2-40b1-e27e-e66412366a37"
      },
      "execution_count": 29,
      "outputs": [
        {
          "output_type": "stream",
          "name": "stdout",
          "text": [
            "Il valore massimo nella lista è: 5\n"
          ]
        }
      ]
    },
    {
      "cell_type": "markdown",
      "source": [
        "**Esercizio 6a:** Data una lista trovare i due numeri di valore maggiore."
      ],
      "metadata": {
        "id": "dAZSRiYE4Euv"
      }
    },
    {
      "cell_type": "code",
      "source": [
        "def due_valori_massimi(lista_numeri):\n",
        "    \"\"\"\n",
        "    Trova i due valori massimi in una lista di numeri.\n",
        "    :param lista_numeri: Lista di numeri interi o decimali.\n",
        "    :return: Una tupla contenente i due valori massimi.\n",
        "    \"\"\"\n",
        "    if len(lista_numeri) < 2:\n",
        "        return \"La lista deve contenere almeno due numeri.\"\n",
        "\n",
        "    # Inizializza i due valori massimi\n",
        "    if lista_numeri[0] > lista_numeri[1]:\n",
        "        primo = lista_numeri[0]\n",
        "        secondo = lista_numeri[1]\n",
        "    else:\n",
        "        primo = lista_numeri[1]\n",
        "        secondo = lista_numeri[0]\n",
        "\n",
        "    # Itera sui restanti numeri della lista\n",
        "    for i in range(2, len(lista_numeri)):\n",
        "        numero = lista_numeri[i]\n",
        "        if numero > primo:\n",
        "            secondo = primo\n",
        "            primo = numero\n",
        "        elif numero > secondo and numero != primo:\n",
        "            secondo = numero\n",
        "\n",
        "    return primo, secondo\n",
        "\n",
        "# Lista di numeri\n",
        "lista = [4, 7, 2, 9, 5, 100, 1012]\n",
        "\n",
        "# Calcolo dei due valori massimi\n",
        "print(\"I due numeri più grandi sono:\", due_valori_massimi(lista))"
      ],
      "metadata": {
        "colab": {
          "base_uri": "https://localhost:8080/"
        },
        "id": "dKC1Jcsu4uY7",
        "outputId": "c8a6eb32-bd38-45c1-b3a7-334d03f21605"
      },
      "execution_count": 31,
      "outputs": [
        {
          "output_type": "stream",
          "name": "stdout",
          "text": [
            "I due numeri più grandi sono: (1012, 100)\n"
          ]
        }
      ]
    },
    {
      "cell_type": "markdown",
      "source": [
        "**Esercizio 7:** Scrivi una funzione che prende una lista di parole e restituisce la parola più lunga."
      ],
      "metadata": {
        "id": "PJ1OciL65UCb"
      }
    },
    {
      "cell_type": "code",
      "source": [
        "def parola_L(parole):\n",
        "    \"\"\"\n",
        "    Trova tutte le parole con la lunghezza massima in una lista.\n",
        "    :param parole: Lista di parole.\n",
        "    :return: Lista contenente tutte le parole con la lunghezza massima.\n",
        "    \"\"\"\n",
        "    risultato = []\n",
        "    max_len = 0\n",
        "\n",
        "    # Itera attraverso tutte le parole per trovare la lunghezza massima\n",
        "    for parola in parole:\n",
        "        if len(parola) > max_len:  # Nuova parola più lunga trovata\n",
        "            risultato = [parola]  # Resetta la lista con la nuova parola\n",
        "            max_len = len(parola)\n",
        "        elif len(parola) == max_len:  # Parola della stessa lunghezza massima\n",
        "            risultato.append(parola)\n",
        "\n",
        "    return risultato\n",
        "\n",
        "# Input della lista di parole\n",
        "parole = list(input(\"Inserire una lista di parole separate da spazio: \").split())\n",
        "\n",
        "# Calcolo delle parole più lunghe\n",
        "parola_più_lunga = parola_L(parole)\n",
        "\n",
        "# Stampa delle parole con la lunghezza massima\n",
        "print(\"Le parole più lunghe sono:\", parola_più_lunga)"
      ],
      "metadata": {
        "colab": {
          "base_uri": "https://localhost:8080/"
        },
        "id": "-KO7IFpa56Qk",
        "outputId": "ae759e43-456b-4c8b-bd0a-eb2873c732a1"
      },
      "execution_count": 39,
      "outputs": [
        {
          "output_type": "stream",
          "name": "stdout",
          "text": [
            "Inserire una lista di parole separate da spazio: casa mosca porta corsa\n",
            "Le parole più lunghe sono: ['mosca', 'porta', 'corsa']\n"
          ]
        }
      ]
    },
    {
      "cell_type": "markdown",
      "source": [
        "**Esercizio 8:** Scrivi una funzione che prende una lista di numeri e restituisce la media dei numeri."
      ],
      "metadata": {
        "id": "9beJW8MBAk_x"
      }
    },
    {
      "cell_type": "code",
      "source": [
        "def media(lista):\n",
        "    \"\"\"\n",
        "    Calcola la media di una lista di numeri.\n",
        "    :param lista: Lista di numeri interi o decimali.\n",
        "    :return: La media dei numeri nella lista.\n",
        "    \"\"\"\n",
        "    somma = sum(lista)  # Usa la funzione built-in `sum` per sommare gli elementi\n",
        "    return somma / len(lista)  # Calcola la media direttamente\n",
        "\n",
        "lista = [1, 2, 3, 4, 5]\n",
        "result = media(lista)\n",
        "\n",
        "print(f\"La media dei numeri nella lista è: {result}\")"
      ],
      "metadata": {
        "colab": {
          "base_uri": "https://localhost:8080/"
        },
        "id": "5j0v0BkRArcX",
        "outputId": "334eef56-fd76-462b-dddb-92cb4af90f5e"
      },
      "execution_count": 40,
      "outputs": [
        {
          "output_type": "stream",
          "name": "stdout",
          "text": [
            "La media dei numeri nella lista è: 3.0\n"
          ]
        }
      ]
    },
    {
      "cell_type": "markdown",
      "source": [
        "**Esercizio 9:** Scrivi una funzione che prende una lista di parole e restituisce una lista contenente solo le parole palindrome."
      ],
      "metadata": {
        "id": "7DuMP2q_DBVf"
      }
    },
    {
      "cell_type": "code",
      "source": [
        "def palindromo(parola):\n",
        "    \"\"\"\n",
        "    Controlla se una parola o frase è un palindromo.\n",
        "    :param parola: La parola o frase da verificare.\n",
        "    :return: True se è un palindromo, False altrimenti.\n",
        "    \"\"\"\n",
        "    # Normalizzazione della parola: rendila minuscola e rimuovi gli spazi\n",
        "    parola = parola.lower().replace(\" \", \"\")\n",
        "\n",
        "    # Inizializzazione degli indici\n",
        "    i = 0\n",
        "    j = len(parola) - 1\n",
        "\n",
        "    # Debug: stampa la lunghezza della parola\n",
        "    print(len(parola))\n",
        "\n",
        "    # Ciclo per confrontare i caratteri\n",
        "    while i < j:\n",
        "        if parola[i] != parola[j]:  # Se i caratteri non corrispondono\n",
        "            return False\n",
        "        i += 1\n",
        "        j -= 1\n",
        "\n",
        "    return True  # Se tutti i caratteri corrispondono, è un palindromo\n",
        "\n",
        "# Verifica della funzione con un esempio\n",
        "print(palindromo(\"Angolo bar a Bologna\"))"
      ],
      "metadata": {
        "colab": {
          "base_uri": "https://localhost:8080/"
        },
        "id": "iwb-aH7pDExD",
        "outputId": "34ac8b73-3338-4775-e471-80baa68d79f7"
      },
      "execution_count": 45,
      "outputs": [
        {
          "output_type": "stream",
          "name": "stdout",
          "text": [
            "17\n",
            "True\n"
          ]
        }
      ]
    },
    {
      "cell_type": "markdown",
      "source": [
        "**Esercizio 10:** Scrivi una funzione che prende una lista di numeri e restituisce una lista contenente solo i numeri maggiori di un valore specificato."
      ],
      "metadata": {
        "id": "xxGkFAKrGSe-"
      }
    },
    {
      "cell_type": "code",
      "source": [
        "def filtra_maggiori(lista_numeri, soglia):\n",
        "    \"\"\"\n",
        "    Filtra i numeri maggiori di una determinata soglia.\n",
        "    :param lista_numeri: Lista di numeri.\n",
        "    :param soglia: Valore soglia per filtrare i numeri.\n",
        "    :return: Lista di numeri maggiori della soglia.\n",
        "    \"\"\"\n",
        "    maggiori = []\n",
        "    for numero in lista_numeri:\n",
        "        if numero > soglia:  # Controllo se il numero è maggiore della soglia\n",
        "            maggiori.append(numero)\n",
        "    return maggiori\n",
        "\n",
        "# Lista di numeri e soglia\n",
        "numeri = [2, 8, 5, 12, 3, 20]\n",
        "soglia = 6\n",
        "\n",
        "# Stampa dei numeri filtrati\n",
        "print(\"Numeri maggiori di\", soglia, \":\", filtra_maggiori(numeri, soglia))"
      ],
      "metadata": {
        "colab": {
          "base_uri": "https://localhost:8080/"
        },
        "id": "Et75egW-MaLY",
        "outputId": "bda5425f-6894-489c-9612-21e2e07ac867"
      },
      "execution_count": 46,
      "outputs": [
        {
          "output_type": "stream",
          "name": "stdout",
          "text": [
            "Numeri maggiori di 6 : [8, 12, 20]\n"
          ]
        }
      ]
    }
  ]
}