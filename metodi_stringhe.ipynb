{
  "nbformat": 4,
  "nbformat_minor": 0,
  "metadata": {
    "colab": {
      "provenance": [],
      "authorship_tag": "ABX9TyNOtA4XFFETO5GnQIv0SgTa",
      "include_colab_link": true
    },
    "kernelspec": {
      "name": "python3",
      "display_name": "Python 3"
    },
    "language_info": {
      "name": "python"
    }
  },
  "cells": [
    {
      "cell_type": "markdown",
      "metadata": {
        "id": "view-in-github",
        "colab_type": "text"
      },
      "source": [
        "<a href=\"https://colab.research.google.com/github/Fabiox-1/python/blob/main/metodi_stringhe.ipynb\" target=\"_parent\"><img src=\"https://colab.research.google.com/assets/colab-badge.svg\" alt=\"Open In Colab\"/></a>"
      ]
    },
    {
      "cell_type": "markdown",
      "source": [
        "**Esercizio 1:** Assegnare una stringa \"ciao mondo\" ad una variabile \"stringa\" e utilizzare il metodo upper() per convertirla in maiuscolo in una nuova variabile."
      ],
      "metadata": {
        "id": "wiXmxy_GqNcJ"
      }
    },
    {
      "cell_type": "code",
      "source": [
        "stringa = \"ciao mondo\"\n",
        "maiuscolo = stringa.upper()\n",
        "\n",
        "print(maiuscolo)"
      ],
      "metadata": {
        "colab": {
          "base_uri": "https://localhost:8080/"
        },
        "id": "Atd1PD0KqSxh",
        "outputId": "543b8437-d118-4d62-e61a-afec52a7d8a6"
      },
      "execution_count": 4,
      "outputs": [
        {
          "output_type": "stream",
          "name": "stdout",
          "text": [
            "CIAO MONDO\n"
          ]
        }
      ]
    },
    {
      "cell_type": "markdown",
      "source": [
        "**Esercizio 2:** Assegnare una stringa \"Benvenuti a Roma\" ad una variabile \"stringa\" e utilizzare il metodo lower() per convertirla in minuscolo in una nuova variabile."
      ],
      "metadata": {
        "id": "oPEtZ0I6rJiS"
      }
    },
    {
      "cell_type": "code",
      "source": [
        "stringa = \"Benvenuti a Roma\"\n",
        "minuscolo = stringa.lower()\n",
        "\n",
        "print(minuscolo)"
      ],
      "metadata": {
        "colab": {
          "base_uri": "https://localhost:8080/"
        },
        "id": "H90mhjUWr9wU",
        "outputId": "bd401695-ef49-4f1c-fae2-f6a7eb649762"
      },
      "execution_count": 5,
      "outputs": [
        {
          "output_type": "stream",
          "name": "stdout",
          "text": [
            "benvenuti a roma\n"
          ]
        }
      ]
    },
    {
      "cell_type": "markdown",
      "source": [
        "**Esercizio 3:** Assegnare una stringa \"Il meglio deve ancora venire\" ad una variabile \"stringa\" e utilizzare il metodo split() per dividere la stringa in una lista di parole."
      ],
      "metadata": {
        "id": "VkFWlV_EwD9R"
      }
    },
    {
      "cell_type": "code",
      "source": [
        "stringa = \"Il meglio deve ancora venire\"\n",
        "parole = stringa.split()\n",
        "\n",
        "print(parole)"
      ],
      "metadata": {
        "colab": {
          "base_uri": "https://localhost:8080/"
        },
        "id": "T0Ue0geQwIeK",
        "outputId": "6814e803-b2be-4473-8f18-b262bf0d6326"
      },
      "execution_count": 6,
      "outputs": [
        {
          "output_type": "stream",
          "name": "stdout",
          "text": [
            "['Il', 'meglio', 'deve', 'ancora', 'venire']\n"
          ]
        }
      ]
    },
    {
      "cell_type": "markdown",
      "source": [
        "**Esercizio 4:** Assegnare una stringa \"Hello World\" ad una variabile \"stringa\" e utilizzare il metodo replace() per sostituire \"World\" con \"Python\"."
      ],
      "metadata": {
        "id": "HViF7z0SwqKR"
      }
    },
    {
      "cell_type": "code",
      "source": [
        "stringa = \"Hello World\"\n",
        "nuova_stringa = stringa.replace(\"World\", \"Python\")\n",
        "\n",
        "print(nuova_stringa)"
      ],
      "metadata": {
        "colab": {
          "base_uri": "https://localhost:8080/"
        },
        "id": "YRN5LwbewziI",
        "outputId": "35e5ac62-ae91-4d97-b14d-258ff2f78b85"
      },
      "execution_count": 7,
      "outputs": [
        {
          "output_type": "stream",
          "name": "stdout",
          "text": [
            "Hello Python\n"
          ]
        }
      ]
    },
    {
      "cell_type": "markdown",
      "source": [
        "**Esercizio 5:** Assegnare una stringa \" Ciao \" ad una variabile \"stringa\" e utilizzare il metodo strip() per rimuovere gli spazi vuoti all'inizio e alla fine della stringa.."
      ],
      "metadata": {
        "id": "zB1TpJFV2fRA"
      }
    },
    {
      "cell_type": "code",
      "source": [
        "stringa = \" Ciao \"\n",
        "nuova_stringa = stringa.strip()\n",
        "\n",
        "print(nuova_stringa)"
      ],
      "metadata": {
        "colab": {
          "base_uri": "https://localhost:8080/"
        },
        "id": "9CP93ekv2_SJ",
        "outputId": "a4a4f65c-c867-4c33-9d8e-d2a619ecb4f4"
      },
      "execution_count": 22,
      "outputs": [
        {
          "output_type": "stream",
          "name": "stdout",
          "text": [
            "Ciao\n"
          ]
        }
      ]
    },
    {
      "cell_type": "markdown",
      "source": [
        "**Esercizio 6:** Assegnare una stringa \"abcdefg\" ad una variabile \"stringa\" ed estrarre i primi tre caratteri."
      ],
      "metadata": {
        "id": "u8Ocg-LjyBJL"
      }
    },
    {
      "cell_type": "code",
      "source": [
        "stringa = \"abcdefg\"\n",
        "primi_tre = stringa[0:3]\n",
        "\n",
        "print(primi_tre)"
      ],
      "metadata": {
        "colab": {
          "base_uri": "https://localhost:8080/"
        },
        "id": "ooxtZsOhyEL1",
        "outputId": "26567256-9c8b-4a87-8721-0e4f7502178b"
      },
      "execution_count": 17,
      "outputs": [
        {
          "output_type": "stream",
          "name": "stdout",
          "text": [
            "abc\n"
          ]
        }
      ]
    },
    {
      "cell_type": "markdown",
      "source": [
        "**Esercizio 7:** Assegnare una stringa \"Python\" ad una variabile \"stringa\" e utilizzare il metodo startswith() per verificare se la stringa inizia con \"Py\"."
      ],
      "metadata": {
        "id": "kmgpdJYS0qzd"
      }
    },
    {
      "cell_type": "code",
      "source": [
        "stringa = \"Python\"\n",
        "booleano = stringa.startswith(\"Py\".lower())\n",
        "\n",
        "print(inizia_con_py)"
      ],
      "metadata": {
        "colab": {
          "base_uri": "https://localhost:8080/"
        },
        "id": "13w8da0D0vCR",
        "outputId": "07b3770a-880e-4b3d-f947-70acaf3001ce"
      },
      "execution_count": 18,
      "outputs": [
        {
          "output_type": "stream",
          "name": "stdout",
          "text": [
            "True\n"
          ]
        }
      ]
    },
    {
      "cell_type": "markdown",
      "source": [
        "**Esercizio 8:** Assegnare una stringa \"Ciao mondo\" ad una variabile \"stringa\" e utilizzare il metodo count() per contare il numero di volte in cui la lettera \"o\" appare nella stringa."
      ],
      "metadata": {
        "id": "h39xGuZn1Jiv"
      }
    },
    {
      "cell_type": "code",
      "source": [
        "stringa = \"Ciao mondo\"\n",
        "conteggio = stringa.count(\"o\")\n",
        "\n",
        "print(conteggio)"
      ],
      "metadata": {
        "colab": {
          "base_uri": "https://localhost:8080/"
        },
        "id": "DNOLHwbc1NI6",
        "outputId": "0b0b2604-68d6-4e71-bc79-cf753405a344"
      },
      "execution_count": 19,
      "outputs": [
        {
          "output_type": "stream",
          "name": "stdout",
          "text": [
            "3\n"
          ]
        }
      ]
    },
    {
      "cell_type": "markdown",
      "source": [
        "**Esercizio 9:** Assegnare una stringa \"Ciao mondo\" ad una variabile \"stringa\". Mandare quindi a schermo gli ultimi 5 caratteri della stringa in maiuscolo, sostituendo il carattere \"o\" con \"k\"."
      ],
      "metadata": {
        "id": "sAKbLfa21r5F"
      }
    },
    {
      "cell_type": "code",
      "source": [
        "stringa = \"Ciao mondo\"\n",
        "ultimi_cinque = stringa[-5:].upper().replace(\"O\", \"K\")\n",
        "\n",
        "print(ultimi_cinque)"
      ],
      "metadata": {
        "colab": {
          "base_uri": "https://localhost:8080/"
        },
        "id": "p4Q0t2Ih12oZ",
        "outputId": "51b6eb77-1fdf-45f5-c934-9192cd55f788"
      },
      "execution_count": 20,
      "outputs": [
        {
          "output_type": "stream",
          "name": "stdout",
          "text": [
            "MKNDK\n"
          ]
        }
      ]
    }
  ]
}