{
  "nbformat": 4,
  "nbformat_minor": 0,
  "metadata": {
    "colab": {
      "provenance": [],
      "authorship_tag": "ABX9TyONPyOTCj8Dn7EEjFoEp+Iu",
      "include_colab_link": true
    },
    "kernelspec": {
      "name": "python3",
      "display_name": "Python 3"
    },
    "language_info": {
      "name": "python"
    }
  },
  "cells": [
    {
      "cell_type": "markdown",
      "metadata": {
        "id": "view-in-github",
        "colab_type": "text"
      },
      "source": [
        "<a href=\"https://colab.research.google.com/github/Fabiox-1/python/blob/main/cicli_for.ipynb\" target=\"_parent\"><img src=\"https://colab.research.google.com/assets/colab-badge.svg\" alt=\"Open In Colab\"/></a>"
      ]
    },
    {
      "cell_type": "markdown",
      "source": [
        "**Esercizio 1:** Scrivere un programma che utilizzi un loop for per stampare ogni elemento di una lista."
      ],
      "metadata": {
        "id": "9zPUDFq_8kTv"
      }
    },
    {
      "cell_type": "code",
      "source": [
        "lista = [\"mela\", \"kiwi\", \"lampone\", \"arancia\"]\n",
        "\n",
        "for elemento in lista:\n",
        "    print(elemento)"
      ],
      "metadata": {
        "colab": {
          "base_uri": "https://localhost:8080/"
        },
        "id": "UEbqMxtU8qZ4",
        "outputId": "79d7f304-407f-416a-c95c-2fa37a748ec6"
      },
      "execution_count": 40,
      "outputs": [
        {
          "output_type": "stream",
          "name": "stdout",
          "text": [
            "mela\n",
            "kiwi\n",
            "lampone\n",
            "arancia\n"
          ]
        }
      ]
    },
    {
      "cell_type": "markdown",
      "source": [
        "**Esercizio 2:** Scrivere un programma che utilizzi un loop for per stampare tutti i numeri da 1 a 10."
      ],
      "metadata": {
        "id": "j9F36s558_vE"
      }
    },
    {
      "cell_type": "code",
      "source": [
        "lista = [1, 2, 3, 4, 5, 6, 7, 8, 9, 10]\n",
        "\n",
        "for elemento in lista:\n",
        "    print(elemento)"
      ],
      "metadata": {
        "colab": {
          "base_uri": "https://localhost:8080/"
        },
        "id": "eu1xRVj_9C5t",
        "outputId": "cff01a99-5ab0-4933-afda-c20db0ad0b44"
      },
      "execution_count": 41,
      "outputs": [
        {
          "output_type": "stream",
          "name": "stdout",
          "text": [
            "1\n",
            "2\n",
            "3\n",
            "4\n",
            "5\n",
            "6\n",
            "7\n",
            "8\n",
            "9\n",
            "10\n"
          ]
        }
      ]
    },
    {
      "cell_type": "markdown",
      "source": [
        "**Esercizio 3:** Scrivere un programma che utilizzi un loop for per sommare tutti i numeri in una lista."
      ],
      "metadata": {
        "id": "Daw3TJHI9-O4"
      }
    },
    {
      "cell_type": "code",
      "source": [
        "lista = [1, 2, 3, 4, 5, 6, 7, 8, 9, 10]\n",
        "somma = 0\n",
        "\n",
        "for elemento in lista:\n",
        "    somma += elemento\n",
        "\n",
        "print(\"La somma di tutti i numeri è:\", somma)"
      ],
      "metadata": {
        "colab": {
          "base_uri": "https://localhost:8080/"
        },
        "id": "Sn__nZ7U-BZd",
        "outputId": "a3ff4d83-09e3-48bf-f8ea-be8d814b5851"
      },
      "execution_count": 42,
      "outputs": [
        {
          "output_type": "stream",
          "name": "stdout",
          "text": [
            "La somma di tutti i numeri è: 55\n"
          ]
        }
      ]
    },
    {
      "cell_type": "markdown",
      "source": [
        "**Esercizio 4:** Scrivere un programma che utilizzi un loop for per stampare tutti i numeri pari da 1 a 20."
      ],
      "metadata": {
        "id": "FZjcGb_m-ZXf"
      }
    },
    {
      "cell_type": "code",
      "source": [
        "for numero in range(2,21,2):\n",
        "\n",
        "  print(numero)"
      ],
      "metadata": {
        "colab": {
          "base_uri": "https://localhost:8080/"
        },
        "id": "FNwCJJXh-cX3",
        "outputId": "3a1d24bf-70ba-4d82-e46f-246cea7b5a06"
      },
      "execution_count": 43,
      "outputs": [
        {
          "output_type": "stream",
          "name": "stdout",
          "text": [
            "2\n",
            "4\n",
            "6\n",
            "8\n",
            "10\n",
            "12\n",
            "14\n",
            "16\n",
            "18\n",
            "20\n"
          ]
        }
      ]
    },
    {
      "cell_type": "markdown",
      "source": [
        "**Esercizio 5:** Scrivere un programma che utilizzi un loop for per stampare tutte le lettere di una stringa."
      ],
      "metadata": {
        "id": "RSr3bijI_Ta6"
      }
    },
    {
      "cell_type": "code",
      "source": [
        "stringa = \"ciao\"\n",
        "\n",
        "for lettera in stringa:\n",
        "  print(lettera)"
      ],
      "metadata": {
        "colab": {
          "base_uri": "https://localhost:8080/"
        },
        "id": "LXp-ubGx_ZFG",
        "outputId": "4f416114-5aff-4232-97a8-9ddfd633e6e3"
      },
      "execution_count": 44,
      "outputs": [
        {
          "output_type": "stream",
          "name": "stdout",
          "text": [
            "c\n",
            "i\n",
            "a\n",
            "o\n"
          ]
        }
      ]
    },
    {
      "cell_type": "markdown",
      "source": [
        "**Esercizio 6:** Scrivere un programma che utilizzi un loop for per stampare tutte le chiavi di un dizionario."
      ],
      "metadata": {
        "id": "5Pligr6O_eYq"
      }
    },
    {
      "cell_type": "code",
      "source": [
        "dizionario = {\"nome\": \"Marco\", \"cognome\": \"Rossi\"}\n",
        "chiavi = dizionario.keys()\n",
        "\n",
        "for i in chiavi:\n",
        "  print(i)"
      ],
      "metadata": {
        "colab": {
          "base_uri": "https://localhost:8080/"
        },
        "id": "y-hkjfdt_oJK",
        "outputId": "80594975-abb8-4b7c-cef5-5a72b86ac9ad"
      },
      "execution_count": 45,
      "outputs": [
        {
          "output_type": "stream",
          "name": "stdout",
          "text": [
            "nome\n",
            "cognome\n"
          ]
        }
      ]
    },
    {
      "cell_type": "markdown",
      "source": [
        "**Esercizio 7:** Scrivere un programma che utilizzi un loop for per stampare tutte le coppie chiave-valore di un dizionario."
      ],
      "metadata": {
        "id": "SPH8HGG2AIOb"
      }
    },
    {
      "cell_type": "code",
      "source": [
        "dizionario = {\"nome\": \"Marco\", \"cognome\": \"Rossi\"}\n",
        "chiavi = dizionario.items()\n",
        "\n",
        "for i in chiavi:\n",
        "  print(i)"
      ],
      "metadata": {
        "colab": {
          "base_uri": "https://localhost:8080/"
        },
        "id": "XgWlazRUAblh",
        "outputId": "ed38c6b3-3f62-4e18-8ba2-7048fc8a1303"
      },
      "execution_count": 46,
      "outputs": [
        {
          "output_type": "stream",
          "name": "stdout",
          "text": [
            "('nome', 'Marco')\n",
            "('cognome', 'Rossi')\n"
          ]
        }
      ]
    },
    {
      "cell_type": "code",
      "source": [
        "dizionario = {\"nome\": \"Marco\", \"cognome\": \"Rossi\", \"età\": 30}\n",
        "\n",
        "for chiave, valore in dizionario.items():\n",
        "  print(chiave, valore)"
      ],
      "metadata": {
        "colab": {
          "base_uri": "https://localhost:8080/"
        },
        "id": "9DloXfzCArmX",
        "outputId": "3cf88119-69b2-4bef-fd75-0c8ba99f11ab"
      },
      "execution_count": 47,
      "outputs": [
        {
          "output_type": "stream",
          "name": "stdout",
          "text": [
            "nome Marco\n",
            "cognome Rossi\n",
            "età 30\n"
          ]
        }
      ]
    },
    {
      "cell_type": "markdown",
      "source": [
        "**Esercizio 8:** Scrivere un programma che utilizzi un loop for per stampare tutte le lettere di ogni stringa in una lista."
      ],
      "metadata": {
        "id": "Njzff1n6A_qX"
      }
    },
    {
      "cell_type": "code",
      "source": [
        "lista = [\"ciao\", \"mondo\"]\n",
        "\n",
        "for stringa in lista:\n",
        "  for lettera in stringa:\n",
        "    print(lettera)"
      ],
      "metadata": {
        "colab": {
          "base_uri": "https://localhost:8080/"
        },
        "id": "CN7mGQ_XBEvB",
        "outputId": "ea675214-9256-4f22-f8d1-4911a3ceec60"
      },
      "execution_count": 48,
      "outputs": [
        {
          "output_type": "stream",
          "name": "stdout",
          "text": [
            "c\n",
            "i\n",
            "a\n",
            "o\n",
            "m\n",
            "o\n",
            "n\n",
            "d\n",
            "o\n"
          ]
        }
      ]
    },
    {
      "cell_type": "markdown",
      "source": [
        "**Esercizio 9:** Scrivere un programma che utilizzi un loop for per contare quante volte una lettera compare in una stringa."
      ],
      "metadata": {
        "id": "YYOmeLhuBVz2"
      }
    },
    {
      "cell_type": "code",
      "source": [
        "stringa = \"ciao mondo\"\n",
        "contatore = 0\n",
        "\n",
        "for lettera in stringa:\n",
        "  if lettera == \"o\":\n",
        "    contatore += 1\n",
        "\n",
        "print(f\"La lettera '{lettera}' appare {contatore} volte nella stringa.\")"
      ],
      "metadata": {
        "colab": {
          "base_uri": "https://localhost:8080/"
        },
        "id": "MdMNSv8xBZKR",
        "outputId": "fc9d055a-d835-4328-c0b8-03bdb1dc218d"
      },
      "execution_count": 49,
      "outputs": [
        {
          "output_type": "stream",
          "name": "stdout",
          "text": [
            "La lettera 'o' appare 3 volte nella stringa.\n"
          ]
        }
      ]
    },
    {
      "cell_type": "markdown",
      "source": [
        "**Esercizio 10:** Scrivere un programma che utilizzi un loop for per calcolare la media di una lista di numeri."
      ],
      "metadata": {
        "id": "d836snLTCkXi"
      }
    },
    {
      "cell_type": "code",
      "source": [
        "lista = [1, 2, 3, 4, 5, 6, 7, 8, 9, 10]\n",
        "somma = 0\n",
        "\n",
        "for numero in lista:\n",
        "  somma += numero\n",
        "\n",
        "media = somma / len(lista)\n",
        "print(\"La media della lista è:\", media)"
      ],
      "metadata": {
        "colab": {
          "base_uri": "https://localhost:8080/"
        },
        "id": "Ik4F79drCnEQ",
        "outputId": "9f5a602c-fa30-4b23-8ad2-08790337a1f6"
      },
      "execution_count": 59,
      "outputs": [
        {
          "output_type": "stream",
          "name": "stdout",
          "text": [
            "La media della lista è: 5.5\n"
          ]
        }
      ]
    }
  ]
}