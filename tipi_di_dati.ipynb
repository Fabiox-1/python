{
  "nbformat": 4,
  "nbformat_minor": 0,
  "metadata": {
    "colab": {
      "provenance": []
    },
    "kernelspec": {
      "name": "python3",
      "display_name": "Python 3"
    },
    "language_info": {
      "name": "python"
    }
  },
  "cells": [
    {
      "cell_type": "markdown",
      "source": [
        "Dichiarare una variabile \"numero_intero\" e assegnargli un valore intero. Mandare a schermo il tipo della variabile per conferma."
      ],
      "metadata": {
        "id": "zEGWXl-f7_AA"
      }
    },
    {
      "cell_type": "code",
      "source": [
        "numero_intero = 15\n",
        "print(numero_intero)\n",
        "type(numero_intero)"
      ],
      "metadata": {
        "colab": {
          "base_uri": "https://localhost:8080/"
        },
        "id": "MPAd2zX69MP5",
        "outputId": "09959046-5907-4d73-a6f9-38ba4f0a3653"
      },
      "execution_count": 28,
      "outputs": [
        {
          "output_type": "stream",
          "name": "stdout",
          "text": [
            "15\n"
          ]
        },
        {
          "output_type": "execute_result",
          "data": {
            "text/plain": [
              "int"
            ]
          },
          "metadata": {},
          "execution_count": 28
        }
      ]
    },
    {
      "cell_type": "markdown",
      "source": [
        "Dichiarare una variabile \"numero_decimale\" e assegnargli un valore float. Mandare a schermo il tipo della variabile per conferma."
      ],
      "metadata": {
        "id": "B9d9WoHl9T2U"
      }
    },
    {
      "cell_type": "code",
      "source": [
        "numero_decimale = 15.5\n",
        "print(numero_decimale)\n",
        "type(numero_decimale)"
      ],
      "metadata": {
        "colab": {
          "base_uri": "https://localhost:8080/"
        },
        "id": "lEJOGGiv-G_r",
        "outputId": "5f3a0b75-0fc6-4d99-abf2-20e26f3b3610"
      },
      "execution_count": 27,
      "outputs": [
        {
          "output_type": "stream",
          "name": "stdout",
          "text": [
            "15.5\n"
          ]
        },
        {
          "output_type": "execute_result",
          "data": {
            "text/plain": [
              "float"
            ]
          },
          "metadata": {},
          "execution_count": 27
        }
      ]
    },
    {
      "cell_type": "markdown",
      "source": [
        "Creare una variabile \"testo\" e assegnargli una stringa contenente una frase. Mandare a schermo il tipo della variabile per conferma."
      ],
      "metadata": {
        "id": "OsmaLKPp-N9c"
      }
    },
    {
      "cell_type": "code",
      "source": [
        "testo = \"Hello, world!\"\n",
        "print(testo)\n",
        "type(testo)"
      ],
      "metadata": {
        "colab": {
          "base_uri": "https://localhost:8080/"
        },
        "id": "CD5K6es2-Rm6",
        "outputId": "1ae393e9-b52c-4cce-ab7e-4f113bed1f67"
      },
      "execution_count": 26,
      "outputs": [
        {
          "output_type": "stream",
          "name": "stdout",
          "text": [
            "Hello, world!\n"
          ]
        },
        {
          "output_type": "execute_result",
          "data": {
            "text/plain": [
              "str"
            ]
          },
          "metadata": {},
          "execution_count": 26
        }
      ]
    },
    {
      "cell_type": "markdown",
      "source": [
        "Creare una variabile \"valore_booleano\" e assegnargli un valore booleano. Mandare a schermo il tipo della variabile per conferma."
      ],
      "metadata": {
        "id": "c5Yx--86-aq8"
      }
    },
    {
      "cell_type": "code",
      "source": [
        "valore_booleano = True\n",
        "print(valore_booleano)\n",
        "type(valore_booleano)"
      ],
      "metadata": {
        "colab": {
          "base_uri": "https://localhost:8080/"
        },
        "id": "3fNTB8ZF-cWT",
        "outputId": "7f3033cf-79a7-47aa-ee43-a1d2a824fd5c"
      },
      "execution_count": 25,
      "outputs": [
        {
          "output_type": "stream",
          "name": "stdout",
          "text": [
            "True\n"
          ]
        },
        {
          "output_type": "execute_result",
          "data": {
            "text/plain": [
              "bool"
            ]
          },
          "metadata": {},
          "execution_count": 25
        }
      ]
    },
    {
      "cell_type": "markdown",
      "source": [
        "Creare una lista \"numeri\" contenente 5 numeri interi. Mandare a schermo il tipo della variabile per conferma."
      ],
      "metadata": {
        "id": "G1kIju-j-nzJ"
      }
    },
    {
      "cell_type": "code",
      "source": [
        "numeri = [1, 2, 3, 4, 5]\n",
        "print(numeri)\n",
        "type(numeri)"
      ],
      "metadata": {
        "colab": {
          "base_uri": "https://localhost:8080/"
        },
        "id": "JG1QGVgg-vS4",
        "outputId": "0f616e47-db32-4c7b-bb7d-0dc8d98ba84f"
      },
      "execution_count": 24,
      "outputs": [
        {
          "output_type": "stream",
          "name": "stdout",
          "text": [
            "[1, 2, 3, 4, 5]\n"
          ]
        },
        {
          "output_type": "execute_result",
          "data": {
            "text/plain": [
              "list"
            ]
          },
          "metadata": {},
          "execution_count": 24
        }
      ]
    },
    {
      "cell_type": "markdown",
      "source": [
        "Creare una lista \"misti\" contenente un numero intero, un numero float, una stringa e un valore booleano. Mandare a schermo il tipo della variabile per conferma."
      ],
      "metadata": {
        "id": "IwR7j3pG_BBO"
      }
    },
    {
      "cell_type": "code",
      "source": [
        "misti = [1, 2.3, \"prova\", False]\n",
        "print(misti)\n",
        "type(misti)"
      ],
      "metadata": {
        "colab": {
          "base_uri": "https://localhost:8080/"
        },
        "id": "Pwwv9R4s_TQ6",
        "outputId": "2852a708-a0a7-49f4-e77d-5c97208781ba"
      },
      "execution_count": 23,
      "outputs": [
        {
          "output_type": "stream",
          "name": "stdout",
          "text": [
            "[1, 2.3, 'prova', False]\n"
          ]
        },
        {
          "output_type": "execute_result",
          "data": {
            "text/plain": [
              "list"
            ]
          },
          "metadata": {},
          "execution_count": 23
        }
      ]
    },
    {
      "cell_type": "markdown",
      "source": [
        "Creare una tupla \"giorni_settimana\" contenente i giorni della settimana come stringhe. Mandare a schermo il tipo della variabile per conferma."
      ],
      "metadata": {
        "id": "jrn1e1Q2_mf-"
      }
    },
    {
      "cell_type": "code",
      "source": [
        "giorni_settimana = (\"Lunedì\", \"Martedì\", \"Mercoledì\", \"Giovedì\", \"Venerdì\", \"Sabato\", \"Domenica\")\n",
        "print(giorni_settimana)\n",
        "type(giorni_settimana)"
      ],
      "metadata": {
        "colab": {
          "base_uri": "https://localhost:8080/"
        },
        "id": "oPx2jC5C_osk",
        "outputId": "87374c8e-fa1e-4178-fcd4-66a450a4a7ff"
      },
      "execution_count": 22,
      "outputs": [
        {
          "output_type": "stream",
          "name": "stdout",
          "text": [
            "('Lunedì', 'Martedì', 'Mercoledì', 'Giovedì', 'Venerdì', 'Sabato', 'Domenica')\n"
          ]
        },
        {
          "output_type": "execute_result",
          "data": {
            "text/plain": [
              "tuple"
            ]
          },
          "metadata": {},
          "execution_count": 22
        }
      ]
    },
    {
      "cell_type": "markdown",
      "source": [
        "Creare un dizionario \"informazioni_personali\" contenente il tuo nome, cognome, età e città di residenza. Mandare a schermo il tipo della variabile per conferma."
      ],
      "metadata": {
        "id": "D0bCSLkJAODK"
      }
    },
    {
      "cell_type": "code",
      "source": [
        "informazioni_personali = {\"nome\": \"Luca\", \"cognome\": \"Rossi\", \"età\": 30, \"citta\": \"Roma\"}\n",
        "print(informazioni_personali)\n",
        "type(informazioni_personali)"
      ],
      "metadata": {
        "colab": {
          "base_uri": "https://localhost:8080/"
        },
        "id": "T5p3bkBwAPDW",
        "outputId": "2b4075d9-a5e6-4aff-f45c-3c0168acb569"
      },
      "execution_count": 21,
      "outputs": [
        {
          "output_type": "stream",
          "name": "stdout",
          "text": [
            "{'nome': 'Luca', 'cognome': 'Rossi', 'età': 30, 'citta': 'Roma'}\n"
          ]
        },
        {
          "output_type": "execute_result",
          "data": {
            "text/plain": [
              "dict"
            ]
          },
          "metadata": {},
          "execution_count": 21
        }
      ]
    }
  ]
}