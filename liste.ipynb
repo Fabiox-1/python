{
  "nbformat": 4,
  "nbformat_minor": 0,
  "metadata": {
    "colab": {
      "provenance": [],
      "authorship_tag": "ABX9TyPp4QOBXYLfpcrEt1hYlNNF",
      "include_colab_link": true
    },
    "kernelspec": {
      "name": "python3",
      "display_name": "Python 3"
    },
    "language_info": {
      "name": "python"
    }
  },
  "cells": [
    {
      "cell_type": "markdown",
      "metadata": {
        "id": "view-in-github",
        "colab_type": "text"
      },
      "source": [
        "<a href=\"https://colab.research.google.com/github/Fabiox-1/python/blob/main/liste.ipynb\" target=\"_parent\"><img src=\"https://colab.research.google.com/assets/colab-badge.svg\" alt=\"Open In Colab\"/></a>"
      ]
    },
    {
      "cell_type": "markdown",
      "source": [
        "**Esercizio 1:** Creare una lista vuota assegnarla a una variabile e stamparla."
      ],
      "metadata": {
        "id": "bXyE9ZVCDyzI"
      }
    },
    {
      "cell_type": "code",
      "source": [
        "lista = []\n",
        "\n",
        "print(lista)"
      ],
      "metadata": {
        "colab": {
          "base_uri": "https://localhost:8080/"
        },
        "id": "fdZevfA2D2J2",
        "outputId": "5d33aa79-0b97-4764-8aee-1686705c23e9"
      },
      "execution_count": 145,
      "outputs": [
        {
          "output_type": "stream",
          "name": "stdout",
          "text": [
            "[]\n"
          ]
        }
      ]
    },
    {
      "cell_type": "markdown",
      "source": [
        "**Esercizio 2:** Creare una lista di numeri interi da 1 a 5 e assegnarla a una variabile e stamparla."
      ],
      "metadata": {
        "id": "8B8sK7ftERZm"
      }
    },
    {
      "cell_type": "code",
      "source": [
        "lista = [1, 2, 3, 4, 5]\n",
        "\n",
        "print(lista)"
      ],
      "metadata": {
        "colab": {
          "base_uri": "https://localhost:8080/"
        },
        "id": "Gf_nJDp3Ej0N",
        "outputId": "3669653d-682c-43ff-a530-eb38fc3d5e9a"
      },
      "execution_count": 146,
      "outputs": [
        {
          "output_type": "stream",
          "name": "stdout",
          "text": [
            "[1, 2, 3, 4, 5]\n"
          ]
        }
      ]
    },
    {
      "cell_type": "markdown",
      "source": [
        "**Esercizio 3:** Accedere all'elemento con indice 2 della lista precedente."
      ],
      "metadata": {
        "id": "nEHs5VZHFE21"
      }
    },
    {
      "cell_type": "code",
      "source": [
        "elemento_indice_2 = lista[2]\n",
        "\n",
        "print(elemento_indice_2)"
      ],
      "metadata": {
        "colab": {
          "base_uri": "https://localhost:8080/"
        },
        "id": "BWQFzHPcFPnw",
        "outputId": "7b914373-3f85-4c98-a307-c4f3cbe547c4"
      },
      "execution_count": 147,
      "outputs": [
        {
          "output_type": "stream",
          "name": "stdout",
          "text": [
            "3\n"
          ]
        }
      ]
    },
    {
      "cell_type": "markdown",
      "source": [
        "**Esercizio 4:** Aggiungere un nuovo elemento \"6\" alla lista precedente."
      ],
      "metadata": {
        "id": "bErho_FjFsTT"
      }
    },
    {
      "cell_type": "code",
      "source": [
        "lista.append(6)\n",
        "\n",
        "print(lista)"
      ],
      "metadata": {
        "colab": {
          "base_uri": "https://localhost:8080/"
        },
        "id": "vD1y9EpzF0hE",
        "outputId": "199b7669-1e86-4d98-f97a-71c4451ca398"
      },
      "execution_count": 148,
      "outputs": [
        {
          "output_type": "stream",
          "name": "stdout",
          "text": [
            "[1, 2, 3, 4, 5, 6]\n"
          ]
        }
      ]
    },
    {
      "cell_type": "markdown",
      "source": [
        "**Esercizio 5:** Rimuovere l'elemento con indice 3 dalla lista precedente."
      ],
      "metadata": {
        "id": "7-uZD8zzGdFu"
      }
    },
    {
      "cell_type": "code",
      "source": [
        "lista.pop(3)\n",
        "\n",
        "print(lista)"
      ],
      "metadata": {
        "colab": {
          "base_uri": "https://localhost:8080/"
        },
        "id": "KuSSBA1rGiFR",
        "outputId": "45741301-54bc-4ae8-b982-d6e52d68f940"
      },
      "execution_count": 149,
      "outputs": [
        {
          "output_type": "stream",
          "name": "stdout",
          "text": [
            "[1, 2, 3, 5, 6]\n"
          ]
        }
      ]
    },
    {
      "cell_type": "code",
      "source": [
        "lista = [1, 2, 3, 4, 5, 6]\n",
        "lista.remove(4)\n",
        "\n",
        "print(lista)"
      ],
      "metadata": {
        "colab": {
          "base_uri": "https://localhost:8080/"
        },
        "id": "ywCJhdkBHCAd",
        "outputId": "40a7a5ce-c5ff-49a4-925c-e2453cd5ed16"
      },
      "execution_count": 150,
      "outputs": [
        {
          "output_type": "stream",
          "name": "stdout",
          "text": [
            "[1, 2, 3, 5, 6]\n"
          ]
        }
      ]
    },
    {
      "cell_type": "markdown",
      "source": [
        "**Esercizio 6:** Creare una nuova lista che contenga solo i primi tre elementi della lista precedente."
      ],
      "metadata": {
        "id": "6eFID1miHnso"
      }
    },
    {
      "cell_type": "code",
      "source": [
        "lista_primi_tre = lista[:3]\n",
        "\n",
        "print(lista_primi_tre)"
      ],
      "metadata": {
        "colab": {
          "base_uri": "https://localhost:8080/"
        },
        "id": "h9gVmf67Hs3r",
        "outputId": "ca7a1886-2134-44c0-bbf2-5f11365627f8"
      },
      "execution_count": 151,
      "outputs": [
        {
          "output_type": "stream",
          "name": "stdout",
          "text": [
            "[1, 2, 3]\n"
          ]
        }
      ]
    },
    {
      "cell_type": "markdown",
      "source": [
        "**Esercizio 7:** Creare una nuova lista che contenga gli elementi con indici dispari della lista precedente."
      ],
      "metadata": {
        "id": "cVyjEzijIKQu"
      }
    },
    {
      "cell_type": "code",
      "source": [
        "lista_dispari = lista[1::2]\n",
        "\n",
        "print(lista_dispari)"
      ],
      "metadata": {
        "colab": {
          "base_uri": "https://localhost:8080/"
        },
        "id": "oy7v6cpOI1AN",
        "outputId": "6c26e603-4a1d-4ff7-fe2b-ba89ca9620d8"
      },
      "execution_count": 152,
      "outputs": [
        {
          "output_type": "stream",
          "name": "stdout",
          "text": [
            "[2, 5]\n"
          ]
        }
      ]
    },
    {
      "cell_type": "markdown",
      "source": [
        "**Esercizio 8:** Ordinare la lista precedente in ordine decrescente."
      ],
      "metadata": {
        "id": "f5eL5Mb7LHAM"
      }
    },
    {
      "cell_type": "code",
      "source": [
        "lista.sort(reverse=True)\n",
        "\n",
        "print(lista)"
      ],
      "metadata": {
        "colab": {
          "base_uri": "https://localhost:8080/"
        },
        "id": "BrzCa4MCLNpO",
        "outputId": "5c4260b7-9649-4557-d347-3a97cb301adc"
      },
      "execution_count": 153,
      "outputs": [
        {
          "output_type": "stream",
          "name": "stdout",
          "text": [
            "[6, 5, 3, 2, 1]\n"
          ]
        }
      ]
    },
    {
      "cell_type": "markdown",
      "source": [
        "**Esercizio 9:** Contare quante volte l'elemento \"2\" appare nella lista precedente."
      ],
      "metadata": {
        "id": "pa5nGebqLtSE"
      }
    },
    {
      "cell_type": "code",
      "source": [
        "print(f\"Il numero 2 appare {lista.count(2)} volta.\")"
      ],
      "metadata": {
        "colab": {
          "base_uri": "https://localhost:8080/"
        },
        "id": "pR_MSLR-Lxmw",
        "outputId": "4e06cc7d-615b-44f2-d80f-2f1382f52a4a"
      },
      "execution_count": 154,
      "outputs": [
        {
          "output_type": "stream",
          "name": "stdout",
          "text": [
            "Il numero 2 appare 1 volta.\n"
          ]
        }
      ]
    }
  ]
}