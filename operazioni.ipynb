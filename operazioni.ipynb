{
  "nbformat": 4,
  "nbformat_minor": 0,
  "metadata": {
    "colab": {
      "provenance": [],
      "authorship_tag": "ABX9TyNj/ymNJnibJimrdcBv8JWT",
      "include_colab_link": true
    },
    "kernelspec": {
      "name": "python3",
      "display_name": "Python 3"
    },
    "language_info": {
      "name": "python"
    }
  },
  "cells": [
    {
      "cell_type": "markdown",
      "metadata": {
        "id": "view-in-github",
        "colab_type": "text"
      },
      "source": [
        "<a href=\"https://colab.research.google.com/github/Fabiox-1/python/blob/main/operazioni.ipynb\" target=\"_parent\"><img src=\"https://colab.research.google.com/assets/colab-badge.svg\" alt=\"Open In Colab\"/></a>"
      ]
    },
    {
      "cell_type": "markdown",
      "source": [
        "**Esercizio 1:** Dichiarare due variabili \"numero1\" e \"numero2\" e assegnargli due numeri interi. Eseguire l'addizione tra le due variabili e assegnare il risultato ad una nuova variabile \"somma\", mandandola a schermo."
      ],
      "metadata": {
        "id": "srm_k-wyHtTz"
      }
    },
    {
      "cell_type": "code",
      "source": [
        "numero1 = 10\n",
        "numero2 = 20\n",
        "somma = numero1 + numero2\n",
        "\n",
        "print(somma)"
      ],
      "metadata": {
        "colab": {
          "base_uri": "https://localhost:8080/"
        },
        "id": "RV7UvITXHvuI",
        "outputId": "15dee9c9-1e83-445f-b6bc-f632ec388980"
      },
      "execution_count": 63,
      "outputs": [
        {
          "output_type": "stream",
          "name": "stdout",
          "text": [
            "30\n"
          ]
        }
      ]
    },
    {
      "cell_type": "code",
      "source": [
        "somma = 0\n",
        "\n",
        "for i in range(0, 2):\n",
        "  numero = int(input(\"Inserisci un numero: \"))\n",
        "  somma = somma + numero\n",
        "\n",
        "print(\"Somma: \", somma)"
      ],
      "metadata": {
        "colab": {
          "base_uri": "https://localhost:8080/"
        },
        "id": "p9v6KbaIIOZo",
        "outputId": "c94267bd-94ec-4d00-8a0e-4be61b8ab573"
      },
      "execution_count": 64,
      "outputs": [
        {
          "output_type": "stream",
          "name": "stdout",
          "text": [
            "Inserisci un numero: 10\n",
            "Inserisci un numero: 20\n",
            "Somma:  30\n"
          ]
        }
      ]
    },
    {
      "cell_type": "markdown",
      "source": [
        "**Esercizio 2:** Eseguire la sottrazione tra le due variabili e assegnare il risultato ad una nuova variabile \"differenza\". Mandare a schermo."
      ],
      "metadata": {
        "id": "eG3nWa8SJAos"
      }
    },
    {
      "cell_type": "code",
      "source": [
        "numero1 = 30\n",
        "numero2 = 20\n",
        "sottrazione = numero1 - numero2\n",
        "\n",
        "print(sottrazione)"
      ],
      "metadata": {
        "colab": {
          "base_uri": "https://localhost:8080/"
        },
        "id": "LRDYUP5lJB1d",
        "outputId": "9a7610ab-3ea9-4253-8cd6-4a33118ac19e"
      },
      "execution_count": 65,
      "outputs": [
        {
          "output_type": "stream",
          "name": "stdout",
          "text": [
            "10\n"
          ]
        }
      ]
    },
    {
      "cell_type": "code",
      "source": [
        "sottrazione = 0\n",
        "for i in range(0, 2):\n",
        "  numero = int(input(\"Inserisci un numero: \"))\n",
        "  sottrazione = - numero - (sottrazione)\n",
        "\n",
        "print(\"Sottrazione: \", sottrazione)"
      ],
      "metadata": {
        "colab": {
          "base_uri": "https://localhost:8080/"
        },
        "id": "zAdxjJwiJqPw",
        "outputId": "b0c81f62-3aae-48c7-f32a-96f34e4df655"
      },
      "execution_count": 18,
      "outputs": [
        {
          "output_type": "stream",
          "name": "stdout",
          "text": [
            "Inserisci un numero: -10\n",
            "Inserisci un numero: -8\n",
            "Sottrazione:  -2\n"
          ]
        }
      ]
    },
    {
      "cell_type": "markdown",
      "source": [
        "**Esercizio 3:** Eseguire la moltiplicazione tra le due variabili e assegnare il risultato ad una nuova variabile \"prodotto\". Mandare a schermo."
      ],
      "metadata": {
        "id": "Z13zyL1rKkns"
      }
    },
    {
      "cell_type": "code",
      "source": [
        "numero1 = 30\n",
        "numero2 = 20\n",
        "moltiplicazione = numero1 * numero2\n",
        "\n",
        "print(moltiplicazione)"
      ],
      "metadata": {
        "colab": {
          "base_uri": "https://localhost:8080/"
        },
        "id": "ACIwGKc2KlpR",
        "outputId": "d3aba50f-2681-4e6c-9670-0673fc385ef8"
      },
      "execution_count": 16,
      "outputs": [
        {
          "output_type": "stream",
          "name": "stdout",
          "text": [
            "600\n"
          ]
        }
      ]
    },
    {
      "cell_type": "code",
      "source": [
        "moltiplicazione = 1\n",
        "\n",
        "for i in range(0, 2):\n",
        "  numero = int(input(\"Inserisci un numero: \"))\n",
        "  moltiplicazione = numero * moltiplicazione\n",
        "\n",
        "print(\"Moltiplicazione: \", moltiplicazione)"
      ],
      "metadata": {
        "colab": {
          "base_uri": "https://localhost:8080/"
        },
        "id": "GXYIKHGTK8Ip",
        "outputId": "86bf2ae9-f26e-49b3-b4bc-8deabb2fda81"
      },
      "execution_count": 20,
      "outputs": [
        {
          "output_type": "stream",
          "name": "stdout",
          "text": [
            "Inserisci un numero: 30\n",
            "Inserisci un numero: 20\n",
            "Moltiplicazione:  600\n"
          ]
        }
      ]
    },
    {
      "cell_type": "markdown",
      "source": [
        "**Esercizio 4:** Eseguire la divisione tra le due variabili e assegnare il risultato ad una nuova variabile \"quoziente\". Mandare a schermo."
      ],
      "metadata": {
        "id": "fm49ANsqMaji"
      }
    },
    {
      "cell_type": "code",
      "source": [
        "numero1 = 30\n",
        "numero2 = 20\n",
        "divisione = numero1 / numero2\n",
        "\n",
        "print(divisione)"
      ],
      "metadata": {
        "colab": {
          "base_uri": "https://localhost:8080/"
        },
        "id": "eIIWDiRiMbeR",
        "outputId": "e236dfeb-37b5-42f7-8027-58b9ae0b1af5"
      },
      "execution_count": 21,
      "outputs": [
        {
          "output_type": "stream",
          "name": "stdout",
          "text": [
            "1.5\n"
          ]
        }
      ]
    },
    {
      "cell_type": "code",
      "source": [
        "divisione = 0\n",
        "\n",
        "numero1 = float(input(\"Inserisci un altro numero: \"))\n",
        "numero2 = float(input(\"Inserisci un altro numero: \"))\n",
        "divisione = numero1 / numero2\n",
        "\n",
        "print(f\"Il risultato della divisione è: {divisione}\")"
      ],
      "metadata": {
        "colab": {
          "base_uri": "https://localhost:8080/"
        },
        "id": "xSve-Od6Mky9",
        "outputId": "53e00e23-192f-4af1-b21a-7c6f4acb6d83"
      },
      "execution_count": 29,
      "outputs": [
        {
          "output_type": "stream",
          "name": "stdout",
          "text": [
            "Inserisci un altro numero: 30\n",
            "Inserisci un altro numero: 20\n",
            "Il risultato della divisione è: 1.5\n"
          ]
        }
      ]
    },
    {
      "cell_type": "markdown",
      "source": [
        "**Esercizio 5:** Eseguire l'operazione di modulo tra le due variabili e assegnare il risultato ad una nuova variabile \"resto\". Mandare a schermo."
      ],
      "metadata": {
        "id": "50optIElN4OQ"
      }
    },
    {
      "cell_type": "code",
      "source": [
        "resto = 0\n",
        "\n",
        "numero1 = float(input(\"Inserisci un altro numero: \"))\n",
        "numero2 = float(input(\"Inserisci un altro numero: \"))\n",
        "resto = numero1 % numero2\n",
        "\n",
        "print(f\"Il resto della divisione è: {resto}\")"
      ],
      "metadata": {
        "colab": {
          "base_uri": "https://localhost:8080/"
        },
        "id": "L4clbBqyN5cI",
        "outputId": "0b5a8f7c-c323-4e65-84bc-a3864a8320ac"
      },
      "execution_count": 32,
      "outputs": [
        {
          "output_type": "stream",
          "name": "stdout",
          "text": [
            "Inserisci un altro numero: 30\n",
            "Inserisci un altro numero: 20\n",
            "Il resto della divisione è: 10.0\n"
          ]
        }
      ]
    },
    {
      "cell_type": "markdown",
      "source": [
        "**Esercizio 6:** Incrementare \"numero1\" di 1 e decrementare \"numero2\" di 3. Mandare a schermo i nuovi valori."
      ],
      "metadata": {
        "id": "AnyKqXxQOrUl"
      }
    },
    {
      "cell_type": "code",
      "source": [
        "numero1 = int(input(\"Inserisci un altro numero: \"))\n",
        "numero2 = int(input(\"Inserisci un altro numero: \"))\n",
        "\n",
        "numero1 += 1\n",
        "numero2 -= 3\n",
        "\n",
        "print(\"Il nuovo valore di numero1 è:\", numero1)\n",
        "print(\"Il nuovo valore di numero2 è:\", numero2)"
      ],
      "metadata": {
        "colab": {
          "base_uri": "https://localhost:8080/"
        },
        "id": "MM6b_wiuOsgo",
        "outputId": "8f3ec817-0386-42c3-883b-be0cba99a6cb"
      },
      "execution_count": 39,
      "outputs": [
        {
          "output_type": "stream",
          "name": "stdout",
          "text": [
            "Inserisci un altro numero: 30\n",
            "Inserisci un altro numero: 20\n",
            "Il nuovo valore di numero1 è: 31\n",
            "Il nuovo valore di numero2 è: 17\n"
          ]
        }
      ]
    },
    {
      "cell_type": "code",
      "source": [
        "numero1 = int(input(\"Inserisci il primo numero: \"))\n",
        "numero2 = int(input(\"Inserisci il secondo numero: \"))\n",
        "\n",
        "def modifica (numero1, numero2):\n",
        "  numero1 += 1\n",
        "  numero2 -= 3\n",
        "  return (numero1, numero2)\n",
        "\n",
        "print(\"I due nuovi numeri sono: \", modifica(numero1, numero2))"
      ],
      "metadata": {
        "colab": {
          "base_uri": "https://localhost:8080/"
        },
        "id": "c46LEvzHPptx",
        "outputId": "dd5fc2f5-88fd-497c-ba7f-057b574dab03"
      },
      "execution_count": 45,
      "outputs": [
        {
          "output_type": "stream",
          "name": "stdout",
          "text": [
            "Inserisci il primo numero: 30\n",
            "Inserisci il secondo numero: 20\n",
            "I due nuovi numeri sono:  (31, 17)\n"
          ]
        }
      ]
    },
    {
      "cell_type": "markdown",
      "source": [
        "**Esercizio 7:** Moltiplicare \"numero1\" per se stesso + 5, sommarlo quindi a \"numero2\" elevato alla seconda. Assegnare l'operazione alla variabile risultato e mandare a schermo."
      ],
      "metadata": {
        "id": "HcAQc-75Sc0q"
      }
    },
    {
      "cell_type": "code",
      "source": [
        "numero1 = int(input(\"Inserisci il primo numero: \"))\n",
        "numero2 = int(input(\"Inserisci il secondo numero: \"))\n",
        "\n",
        "risultato = (numero1 * numero1) + 5 + (numero2**2)\n",
        "\n",
        "print(\"Il valore della variabile risultato è:\", risultato)"
      ],
      "metadata": {
        "colab": {
          "base_uri": "https://localhost:8080/"
        },
        "id": "H4PJYEU0Sg-Q",
        "outputId": "67f5b710-9700-41cd-c607-b469d1ed2527"
      },
      "execution_count": 52,
      "outputs": [
        {
          "output_type": "stream",
          "name": "stdout",
          "text": [
            "Inserisci il primo numero: 2\n",
            "Inserisci il secondo numero: 2\n",
            "Il valore della variabile risultato è: 13\n"
          ]
        }
      ]
    },
    {
      "cell_type": "markdown",
      "source": [
        "**Esercizio 8:** Trovare quella operazione per portare \"numero1\" a valere 1 senza riassegnarlo direttamente ad 1 e sottraendolo a se stesso."
      ],
      "metadata": {
        "id": "eQ3TyA82lz3u"
      }
    },
    {
      "cell_type": "code",
      "source": [
        "numero1 = 9\n",
        "numero1 - numero1 - (numero1 - 1)\n",
        "\n",
        "print(\"Il numero è:\", numero1)"
      ],
      "metadata": {
        "colab": {
          "base_uri": "https://localhost:8080/"
        },
        "id": "PIntNZlIl46P",
        "outputId": "315cb937-3c1a-44d8-a7e0-0662c69a2a53"
      },
      "execution_count": 56,
      "outputs": [
        {
          "output_type": "stream",
          "name": "stdout",
          "text": [
            "Il numero è: 9\n"
          ]
        }
      ]
    }
  ]
}