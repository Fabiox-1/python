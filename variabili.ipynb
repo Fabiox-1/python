{
  "nbformat": 4,
  "nbformat_minor": 0,
  "metadata": {
    "colab": {
      "provenance": []
    },
    "kernelspec": {
      "name": "python3",
      "display_name": "Python 3"
    },
    "language_info": {
      "name": "python"
    }
  },
  "cells": [
    {
      "cell_type": "markdown",
      "source": [
        "Dichiarare una variabile \"nome\" e assegnargli il tuo nome. Mandare a schermo."
      ],
      "metadata": {
        "id": "lGncMNllcISq"
      }
    },
    {
      "cell_type": "code",
      "execution_count": 76,
      "metadata": {
        "colab": {
          "base_uri": "https://localhost:8080/"
        },
        "id": "O8aHqoI2bRxZ",
        "outputId": "4e43a33b-9208-46f2-9cdf-808f5bdbbd06"
      },
      "outputs": [
        {
          "output_type": "stream",
          "name": "stdout",
          "text": [
            "Fabio\n"
          ]
        },
        {
          "output_type": "execute_result",
          "data": {
            "text/plain": [
              "str"
            ]
          },
          "metadata": {},
          "execution_count": 76
        }
      ],
      "source": [
        "nome = \"Fabio\"\n",
        "print(nome)\n",
        "type(nome)"
      ]
    },
    {
      "cell_type": "markdown",
      "source": [
        "Dichiarare una variabile \"eta\" e assegnargli la tua età. Mandare a schermo."
      ],
      "metadata": {
        "id": "z57YEIxWcPkA"
      }
    },
    {
      "cell_type": "code",
      "source": [
        "eta = 34\n",
        "print(eta)\n",
        "type(eta)"
      ],
      "metadata": {
        "colab": {
          "base_uri": "https://localhost:8080/"
        },
        "id": "Zp8iVBX0cU-d",
        "outputId": "12ae3020-e1ee-4b2c-ccb7-705e24133dea"
      },
      "execution_count": 77,
      "outputs": [
        {
          "output_type": "stream",
          "name": "stdout",
          "text": [
            "34\n"
          ]
        },
        {
          "output_type": "execute_result",
          "data": {
            "text/plain": [
              "int"
            ]
          },
          "metadata": {},
          "execution_count": 77
        }
      ]
    },
    {
      "cell_type": "markdown",
      "source": [
        "Dichiarare una variabile \"pi\" e assegnargli il valore di pi greco (3,14159). Mandare a schermo."
      ],
      "metadata": {
        "id": "fMlLqeiQeMEw"
      }
    },
    {
      "cell_type": "code",
      "source": [
        "import math\n",
        "pi = math.pi\n",
        "print(pi)\n",
        "type(pi)"
      ],
      "metadata": {
        "colab": {
          "base_uri": "https://localhost:8080/"
        },
        "id": "huqefsN2ePjc",
        "outputId": "c9eda214-2f8b-455e-b710-4a8d7f25bb58"
      },
      "execution_count": 78,
      "outputs": [
        {
          "output_type": "stream",
          "name": "stdout",
          "text": [
            "3.141592653589793\n"
          ]
        },
        {
          "output_type": "execute_result",
          "data": {
            "text/plain": [
              "float"
            ]
          },
          "metadata": {},
          "execution_count": 78
        }
      ]
    },
    {
      "cell_type": "markdown",
      "source": [
        "Creare una variabile \"lunghezza\" e assegnargli un valore, quindi riassegnare la variabile a 15. Mandare a schermo."
      ],
      "metadata": {
        "id": "r-ZXRjBzfZfm"
      }
    },
    {
      "cell_type": "code",
      "source": [
        "lunghezza = 10\n",
        "print(lunghezza)\n",
        "lunghezza = 15\n",
        "print(lunghezza)"
      ],
      "metadata": {
        "colab": {
          "base_uri": "https://localhost:8080/"
        },
        "id": "hcj1xfwffcGO",
        "outputId": "f58274cb-d61a-4e5c-8e62-a3558d88604d"
      },
      "execution_count": 79,
      "outputs": [
        {
          "output_type": "stream",
          "name": "stdout",
          "text": [
            "10\n",
            "15\n"
          ]
        }
      ]
    },
    {
      "cell_type": "markdown",
      "source": [
        "Creare una variabile \"nome_completo\" e assegnargli una stringa contenente il tuo nome e cognome. Mandare a schermo.testo in corsivo"
      ],
      "metadata": {
        "id": "0qU8FF5Df8NQ"
      }
    },
    {
      "cell_type": "code",
      "source": [
        "nome_completo = \"Fabio Sacco\"\n",
        "print(nome_completo)\n",
        "type(nome_completo)"
      ],
      "metadata": {
        "colab": {
          "base_uri": "https://localhost:8080/"
        },
        "id": "3w95e0kughgv",
        "outputId": "caf12726-ecd4-4795-d63f-858b8435e081"
      },
      "execution_count": 80,
      "outputs": [
        {
          "output_type": "stream",
          "name": "stdout",
          "text": [
            "Fabio Sacco\n"
          ]
        },
        {
          "output_type": "execute_result",
          "data": {
            "text/plain": [
              "str"
            ]
          },
          "metadata": {},
          "execution_count": 80
        }
      ]
    },
    {
      "cell_type": "markdown",
      "source": [
        "Creare una variabile \"eta_futura\" e assegnargli il valore dell'età che avrai tra 10 anni (utilizzando la variabile età già esistente). Mansare a schermo.testo in corsivo"
      ],
      "metadata": {
        "id": "E27cnHYnh19N"
      }
    },
    {
      "cell_type": "code",
      "source": [
        "eta_futura = eta + 10\n",
        "print(eta_futura)"
      ],
      "metadata": {
        "colab": {
          "base_uri": "https://localhost:8080/"
        },
        "id": "ICugxyimh9nr",
        "outputId": "f3c8444b-f20d-46ec-a4cb-114ad524976e"
      },
      "execution_count": 81,
      "outputs": [
        {
          "output_type": "stream",
          "name": "stdout",
          "text": [
            "44\n"
          ]
        }
      ]
    },
    {
      "cell_type": "markdown",
      "source": [
        "Creare delle variabili \"nome\", \"cognome\" ed \"anno_di_nascita\" ed assegnargli i valori. Mandare a schermo in un unico print. Sovrascrivere tutte le variabili e rimandare a schermo una seconda volta."
      ],
      "metadata": {
        "id": "m3WK55kViqTx"
      }
    },
    {
      "cell_type": "code",
      "source": [
        "nome = \"Fabio\"\n",
        "cognome = \"Sacco\"\n",
        "anno_di_nascita = 1991\n",
        "print(nome, cognome, anno_di_nascita)\n",
        "print(nome + \" \" + cognome + \" \" + str(anno_di_nascita))"
      ],
      "metadata": {
        "colab": {
          "base_uri": "https://localhost:8080/"
        },
        "id": "ijFacvTKith2",
        "outputId": "11183e15-3007-4ac2-a26c-15777a70d7c1"
      },
      "execution_count": 82,
      "outputs": [
        {
          "output_type": "stream",
          "name": "stdout",
          "text": [
            "Fabio Sacco 1991\n",
            "Fabio Sacco 1991\n"
          ]
        }
      ]
    },
    {
      "cell_type": "markdown",
      "source": [
        "Creare una variabile eta_attuale e assegnargli il valore dell'età che hai attualmente, calcolandola in base all'anno corrente. Mandare a schermo eta_attuale."
      ],
      "metadata": {
        "id": "Nwxa04qilMtY"
      }
    },
    {
      "cell_type": "code",
      "source": [
        "anno_corrente = 2025\n",
        "eta_attuale = anno_corrente - anno_di_nascita\n",
        "print(eta_attuale)"
      ],
      "metadata": {
        "colab": {
          "base_uri": "https://localhost:8080/"
        },
        "id": "JyKcgjfjmtdX",
        "outputId": "6a1e3fb3-a338-4840-9303-4f02d1e9b0c8"
      },
      "execution_count": 88,
      "outputs": [
        {
          "output_type": "stream",
          "name": "stdout",
          "text": [
            "34\n"
          ]
        }
      ]
    }
  ]
}