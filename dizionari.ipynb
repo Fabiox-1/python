{
  "nbformat": 4,
  "nbformat_minor": 0,
  "metadata": {
    "colab": {
      "provenance": [],
      "authorship_tag": "ABX9TyNLUkEDSY+6y1Q4W1JOzw+W",
      "include_colab_link": true
    },
    "kernelspec": {
      "name": "python3",
      "display_name": "Python 3"
    },
    "language_info": {
      "name": "python"
    }
  },
  "cells": [
    {
      "cell_type": "markdown",
      "metadata": {
        "id": "view-in-github",
        "colab_type": "text"
      },
      "source": [
        "<a href=\"https://colab.research.google.com/github/Fabiox-1/python/blob/main/dizionari.ipynb\" target=\"_parent\"><img src=\"https://colab.research.google.com/assets/colab-badge.svg\" alt=\"Open In Colab\"/></a>"
      ]
    },
    {
      "cell_type": "markdown",
      "source": [
        "**Esercizio 1:** Creare un dizionario vuoto e assegnarlo a una variabile."
      ],
      "metadata": {
        "id": "pqroJiRgNGR4"
      }
    },
    {
      "cell_type": "code",
      "source": [
        "dizionario = {}\n",
        "\n",
        "print(dizionario)"
      ],
      "metadata": {
        "colab": {
          "base_uri": "https://localhost:8080/"
        },
        "id": "RRGhhhF5NI-0",
        "outputId": "5cf5d29f-b4d3-477d-8a7b-20979e70df2e"
      },
      "execution_count": 6,
      "outputs": [
        {
          "output_type": "stream",
          "name": "stdout",
          "text": [
            "{}\n"
          ]
        }
      ]
    },
    {
      "cell_type": "markdown",
      "source": [
        "**Esercizio 2:** Creare un dizionario con le seguenti chiavi e valori: \"nome\" : \"Mario\", \"cognome\" : \"Rossi\", \"età\" : 30."
      ],
      "metadata": {
        "id": "uFnXpavpNZ8I"
      }
    },
    {
      "cell_type": "code",
      "source": [
        "dizionario = {\"nome\" : \"Mario\", \"cognome\" : \"Rossi\", \"età\" : 30}\n",
        "\n",
        "print(dizionario)"
      ],
      "metadata": {
        "colab": {
          "base_uri": "https://localhost:8080/"
        },
        "id": "cHVtOuwuNfV5",
        "outputId": "7f4a2ba6-fa08-4551-dc4c-a2861d9a1a46"
      },
      "execution_count": 7,
      "outputs": [
        {
          "output_type": "stream",
          "name": "stdout",
          "text": [
            "{'nome': 'Mario', 'cognome': 'Rossi', 'età': 30}\n"
          ]
        }
      ]
    },
    {
      "cell_type": "markdown",
      "source": [
        "**Esercizio 3:** Accedere al valore dell'elemento con chiave \"età\" del dizionario precedente."
      ],
      "metadata": {
        "id": "WMcthme7NsKw"
      }
    },
    {
      "cell_type": "code",
      "source": [
        "print(dizionario[\"età\"])"
      ],
      "metadata": {
        "colab": {
          "base_uri": "https://localhost:8080/"
        },
        "id": "36glVfyJN2-Q",
        "outputId": "675e98b5-95a9-45ba-8fe8-0dd699ab2c61"
      },
      "execution_count": 8,
      "outputs": [
        {
          "output_type": "stream",
          "name": "stdout",
          "text": [
            "30\n"
          ]
        }
      ]
    },
    {
      "cell_type": "markdown",
      "source": [
        "**Esercizio 4:** Aggiungere un nuovo elemento \"email\" con valore \"mario.rossi@email.com\" al dizionario precedente."
      ],
      "metadata": {
        "id": "prYSRzcROFqu"
      }
    },
    {
      "cell_type": "code",
      "source": [
        "dizionario[\"email\"] = \"mario.rossi@email.com\"\n",
        "\n",
        "print(dizionario)"
      ],
      "metadata": {
        "colab": {
          "base_uri": "https://localhost:8080/"
        },
        "id": "iP81M36BOTzl",
        "outputId": "5fe01f23-243e-4acc-c5e7-558263f7cb18"
      },
      "execution_count": 9,
      "outputs": [
        {
          "output_type": "stream",
          "name": "stdout",
          "text": [
            "{'nome': 'Mario', 'cognome': 'Rossi', 'età': 30, 'email': 'mario.rossi@email.com'}\n"
          ]
        }
      ]
    },
    {
      "cell_type": "markdown",
      "source": [
        "**Esercizio 5:** Rimuovere l'elemento con chiave \"cognome\" dal dizionario precedente."
      ],
      "metadata": {
        "id": "JQMAEIpVOnOj"
      }
    },
    {
      "cell_type": "code",
      "source": [
        "del dizionario[\"cognome\"]\n",
        "\n",
        "print(dizionario)"
      ],
      "metadata": {
        "colab": {
          "base_uri": "https://localhost:8080/"
        },
        "id": "IENFB_fiOxkS",
        "outputId": "147ad309-5cbd-47d0-f6e7-25ff24d4a51f"
      },
      "execution_count": 10,
      "outputs": [
        {
          "output_type": "stream",
          "name": "stdout",
          "text": [
            "{'nome': 'Mario', 'età': 30, 'email': 'mario.rossi@email.com'}\n"
          ]
        }
      ]
    },
    {
      "cell_type": "markdown",
      "source": [
        "**Esercizio 6:** Creare una nuova lista che contenga solo le chiavi del dizionario precedente."
      ],
      "metadata": {
        "id": "jdHC8YPeO4iK"
      }
    },
    {
      "cell_type": "code",
      "source": [
        "lista_chiavi = list(dizionario.keys())\n",
        "\n",
        "print(lista_chiavi)"
      ],
      "metadata": {
        "colab": {
          "base_uri": "https://localhost:8080/"
        },
        "id": "wS_eb9xOPEB6",
        "outputId": "8bc024b6-5965-4f8f-aaf7-a1e0a31bb647"
      },
      "execution_count": 11,
      "outputs": [
        {
          "output_type": "stream",
          "name": "stdout",
          "text": [
            "['nome', 'età', 'email']\n"
          ]
        }
      ]
    },
    {
      "cell_type": "markdown",
      "source": [
        "**Esercizio 7:** Creare una nuova lista che contenga solo i valori del dizionario precedente."
      ],
      "metadata": {
        "id": "hhATG5FpPSu9"
      }
    },
    {
      "cell_type": "code",
      "source": [
        "lista_valori = list(dizionario.values())\n",
        "\n",
        "print(lista_valori)"
      ],
      "metadata": {
        "colab": {
          "base_uri": "https://localhost:8080/"
        },
        "id": "Z1h621sSPrfE",
        "outputId": "b7a3554e-5589-4717-e5c5-4d828a86268c"
      },
      "execution_count": 12,
      "outputs": [
        {
          "output_type": "stream",
          "name": "stdout",
          "text": [
            "['Mario', 30, 'mario.rossi@email.com']\n"
          ]
        }
      ]
    },
    {
      "cell_type": "markdown",
      "source": [
        "**Esercizio 8:** Aggiornare il valore dell'elemento con chiave \"età\" del dizionario precedente a 35."
      ],
      "metadata": {
        "id": "DgTON2rCPwuR"
      }
    },
    {
      "cell_type": "code",
      "source": [
        "dizionario[\"età\"] = 35\n",
        "\n",
        "print(dizionario)"
      ],
      "metadata": {
        "colab": {
          "base_uri": "https://localhost:8080/"
        },
        "id": "zUkl1Ss9QFpf",
        "outputId": "8595d233-935f-4d34-d382-f6cf42843fae"
      },
      "execution_count": 14,
      "outputs": [
        {
          "output_type": "stream",
          "name": "stdout",
          "text": [
            "{'nome': 'Mario', 'età': 35, 'email': 'mario.rossi@email.com'}\n"
          ]
        }
      ]
    },
    {
      "cell_type": "markdown",
      "source": [
        "**Esercizio 9:** Contare il numero di elementi nel dizionario precedente."
      ],
      "metadata": {
        "id": "BoZcEcglQT2_"
      }
    },
    {
      "cell_type": "code",
      "source": [
        "numero_elementi = len(dizionario)\n",
        "\n",
        "print(numero_elementi)"
      ],
      "metadata": {
        "colab": {
          "base_uri": "https://localhost:8080/"
        },
        "id": "AmUbw1x-Qacq",
        "outputId": "fa1e18da-be69-47ef-cc07-414f6cd970b0"
      },
      "execution_count": 15,
      "outputs": [
        {
          "output_type": "stream",
          "name": "stdout",
          "text": [
            "3\n"
          ]
        }
      ]
    }
  ]
}